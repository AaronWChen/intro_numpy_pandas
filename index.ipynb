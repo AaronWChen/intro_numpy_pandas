{
 "cells": [
  {
   "cell_type": "markdown",
   "metadata": {},
   "source": [
    "# Module 1 - Introducing Libraries: NumPy and Pandas\n",
    "## Pandas Part 1"
   ]
  },
  {
   "cell_type": "markdown",
   "metadata": {},
   "source": [
    "### Introduction\n",
    "\n",
    "![austin](http://www.austintexas.gov/sites/default/files/aac_logo.jpg)\n",
    "You have decided that you want to start your own animal shelter, but you want to get an idea of what that will entail and get more information about planning. You have found out that Austin has one of the largest no-kill animal shelters in the country, and they keep meticulous track of animals that have been taken in and released. However, it is a large file, the online visualization tools provided are terrible, the data is sorted as strings, and the file holds an overwhelming amount  of information. Is there an easy way to look at this data? Can we do this with base Python? Is there a better way?\n",
    "\n",
    "\n",
    "#### _Our goals today are to be able to_: <br/>\n",
    "\n",
    "- Identify and import Python libraries\n",
    "- Identify differences between NumPy and base Python in usage and operation\n",
    "- Import/read data using Pandas\n",
    "- Identify Pandas objects and manipulate Pandas objects by index and columns\n",
    "- Filter data using Pandas\n",
    "\n",
    "#### _Big questions for this lesson_: <br/>\n",
    "- What is a package, what do packages do, and why might we want to use them?\n",
    "- When do we want to use NumPy versus Pandas?\n",
    "- What are the advantages of using Pandas?"
   ]
  },
  {
   "cell_type": "markdown",
   "metadata": {},
   "source": [
    "### Activation:\n",
    "\n",
    "![excel](excelpic.jpg)\n",
    "\n",
    "Most people have used Microsoft Excel or Google sheets. But what are the limitations of excel?\n",
    "\n",
    "- [Take a minute to read this article](https://www.bbc.com/news/magazine-22223190)\n",
    "- make a list of problems excel presents\n",
    "\n",
    "How is using python different?"
   ]
  },
  {
   "cell_type": "markdown",
   "metadata": {},
   "source": [
    "### 1. Importing Python Libraries\n",
    "\n",
    "\n",
    "In an earlier lesson, we wrote a function to calculate the mean of an list. That was **tedious**.\n",
    "\n",
    "Thankfully, other people have wrote and optimized functions and wrapped them into `libraries` we can then call and use in our analysis.\n",
    "\n",
    "![numpy](https://raw.githubusercontent.com/donnemartin/data-science-ipython-notebooks/master/images/numpy.png)\n",
    "\n",
    "[NumPy](https://www.numpy.org/) is the fundamental package for scientific computing with Python. \n",
    "\n",
    "\n",
    "To import a package type `import` followed by the name of the library as shown below."
   ]
  },
  {
   "cell_type": "code",
   "execution_count": null,
   "metadata": {},
   "outputs": [],
   "source": [
    "import numpy \n",
    "\n",
    "x=numpy.array([1,2,3])\n",
    "print(x)"
   ]
  },
  {
   "cell_type": "code",
   "execution_count": null,
   "metadata": {},
   "outputs": [],
   "source": [
    "#most packages have a standard way to import them\n",
    "import numpy as np\n",
    "\n",
    "y=np.array([4,5,6])\n",
    "print(y)"
   ]
  },
  {
   "cell_type": "markdown",
   "metadata": {},
   "source": [
    "Because of numpy we can now get the **mean** and other quick math of lists and arrays."
   ]
  },
  {
   "cell_type": "code",
   "execution_count": null,
   "metadata": {},
   "outputs": [],
   "source": [
    "ex2 = np.array([4,3,25,40,62,20.0])\n",
    "ex2"
   ]
  },
  {
   "cell_type": "code",
   "execution_count": null,
   "metadata": {},
   "outputs": [],
   "source": [
    "example = [4,3,25,40,62,\"20\"]\n",
    "print(np.mean(example))"
   ]
  },
  {
   "cell_type": "code",
   "execution_count": null,
   "metadata": {},
   "outputs": [],
   "source": [
    "int(37.3)"
   ]
  },
  {
   "cell_type": "code",
   "execution_count": null,
   "metadata": {},
   "outputs": [],
   "source": [
    "import math"
   ]
  },
  {
   "cell_type": "code",
   "execution_count": null,
   "metadata": {},
   "outputs": [],
   "source": [
    "math.floor(37.3)"
   ]
  },
  {
   "cell_type": "markdown",
   "metadata": {},
   "source": [
    "Now let's import some other packages. We will cover in more detail some fun options for numpy later."
   ]
  },
  {
   "cell_type": "code",
   "execution_count": null,
   "metadata": {},
   "outputs": [],
   "source": [
    "import scipy  # no nickname\n",
    "import pandas as pd  # common nickname\n",
    "import matplotlib as mpl  # non common nickname"
   ]
  },
  {
   "cell_type": "code",
   "execution_count": null,
   "metadata": {},
   "outputs": [],
   "source": [
    "#sometimes we will want to import a specific module from a library\n",
    "import matplotlib.pyplot as plt  # common nickname\n",
    "\n",
    "plt.plot(x,y)"
   ]
  },
  {
   "cell_type": "code",
   "execution_count": null,
   "metadata": {},
   "outputs": [],
   "source": [
    "# interactive pop up for method documentation\n",
    "# is () with a shift tab inside of ()\n",
    "plt.plot()"
   ]
  },
  {
   "cell_type": "code",
   "execution_count": null,
   "metadata": {},
   "outputs": [],
   "source": [
    "# or you can print out the whole entire documentation\n",
    "# help(plt.plot)"
   ]
  },
  {
   "cell_type": "code",
   "execution_count": null,
   "metadata": {},
   "outputs": [],
   "source": [
    "#OR we can also import it this way\n",
    "\n",
    "from matplotlib import pyplot as plt \n",
    "plt.plot(x,y)"
   ]
  },
  {
   "cell_type": "markdown",
   "metadata": {},
   "source": [
    "Try importing the seaborn library as ['sns'](https://en.wikipedia.org/wiki/Sam_Seaborn) which is the convention."
   ]
  },
  {
   "cell_type": "code",
   "execution_count": null,
   "metadata": {},
   "outputs": [],
   "source": [
    "#type your code here!\n",
    "import seaborn as sns"
   ]
  },
  {
   "cell_type": "markdown",
   "metadata": {},
   "source": [
    "#### Helpful links: library documenation\n",
    "\n",
    "Libraries have associated documentation to explain how to use the different tools included in a library.\n",
    "\n",
    "- [NumPy](https://docs.scipy.org/doc/numpy/)\n",
    "- [SciPy](https://docs.scipy.org/doc/scipy/reference/)\n",
    "- [Pandas](http://pandas.pydata.org/pandas-docs/stable/)\n",
    "- [Matplotlib](https://matplotlib.org/contents.html)"
   ]
  },
  {
   "cell_type": "markdown",
   "metadata": {},
   "source": [
    "### 2. NumPy versus base Python\n",
    "\n",
    "Now that we know libraries exist, why do we want to use them? Let us examine a comparison between base Python and Numpy.\n",
    "\n",
    "Python has lists and normal python can do basic math. NumPy, however, has the helpful objects called arrays.\n",
    "\n",
    "Numpy has a few advantages over base Python which we will look at."
   ]
  },
  {
   "cell_type": "code",
   "execution_count": null,
   "metadata": {},
   "outputs": [],
   "source": [
    "import numpy"
   ]
  },
  {
   "cell_type": "code",
   "execution_count": null,
   "metadata": {},
   "outputs": [],
   "source": [
    "import numpy as np"
   ]
  },
  {
   "cell_type": "code",
   "execution_count": null,
   "metadata": {},
   "outputs": [],
   "source": [
    "names_list=['Bob','John','Sally']\n",
    "names_array=numpy.char.array(['Bob','John','Sally']) #use numpy.array for numbers and numpy.char.array for strings\n",
    "print(names_list)\n",
    "print(names_array)"
   ]
  },
  {
   "cell_type": "code",
   "execution_count": null,
   "metadata": {},
   "outputs": [],
   "source": [
    "names_array"
   ]
  },
  {
   "cell_type": "code",
   "execution_count": null,
   "metadata": {},
   "outputs": [],
   "source": [
    "names_array + \"_totally!\""
   ]
  },
  {
   "cell_type": "code",
   "execution_count": null,
   "metadata": {},
   "outputs": [],
   "source": [
    "names_array"
   ]
  },
  {
   "cell_type": "code",
   "execution_count": null,
   "metadata": {},
   "outputs": [],
   "source": [
    "food_array = np.char.array([\"pizza\", \"pasta\", \"green chili stew\"])\n",
    "food_array"
   ]
  },
  {
   "cell_type": "code",
   "execution_count": null,
   "metadata": {},
   "outputs": [],
   "source": [
    "food_array + \"-yum! :)\""
   ]
  },
  {
   "cell_type": "markdown",
   "metadata": {},
   "source": [
    "Arrays can have many dimensions"
   ]
  },
  {
   "cell_type": "code",
   "execution_count": null,
   "metadata": {},
   "outputs": [],
   "source": [
    "food_array"
   ]
  },
  {
   "cell_type": "code",
   "execution_count": null,
   "metadata": {},
   "outputs": [],
   "source": [
    "food_array.shape"
   ]
  },
  {
   "cell_type": "markdown",
   "metadata": {},
   "source": [
    "Why the negative -1?\n",
    "\n",
    "This [seems like the best answer on why -1](https://stackoverflow.com/questions/18691084/what-does-1-mean-in-numpy-reshape)."
   ]
  },
  {
   "cell_type": "code",
   "execution_count": null,
   "metadata": {},
   "outputs": [],
   "source": [
    "food_reshape = food_array.reshape(-1, 1)"
   ]
  },
  {
   "cell_type": "code",
   "execution_count": null,
   "metadata": {},
   "outputs": [],
   "source": [
    "food_reshape.shape"
   ]
  },
  {
   "cell_type": "code",
   "execution_count": null,
   "metadata": {},
   "outputs": [],
   "source": [
    "food_reshape"
   ]
  },
  {
   "cell_type": "code",
   "execution_count": null,
   "metadata": {},
   "outputs": [],
   "source": [
    "food_array"
   ]
  },
  {
   "cell_type": "code",
   "execution_count": null,
   "metadata": {},
   "outputs": [],
   "source": [
    "# Make a list and an array of three numbers\n",
    "\n",
    "#your code here\n",
    "numbers_list = [17, 21, 65]\n",
    "numbers_array = np.array([17, 21, 65])"
   ]
  },
  {
   "cell_type": "code",
   "execution_count": null,
   "metadata": {},
   "outputs": [],
   "source": [
    "# divide your array by 2\n",
    "\n",
    "numbers_array/2"
   ]
  },
  {
   "cell_type": "code",
   "execution_count": null,
   "metadata": {},
   "outputs": [],
   "source": [
    "# divide your list by 2\n",
    "\n",
    "numbers_list/2"
   ]
  },
  {
   "cell_type": "markdown",
   "metadata": {},
   "source": [
    "Numpy arrays support the \\_div\\_ operator while python lists do not. There are other things that make it useful to utilize numpy over base python for evaluating data.\n",
    "\n",
    "Below, you will find a piece of code we will use to compare the speed of operations on a list and operations on an array. In this speed test, we will use the library [time](https://docs.python.org/3/library/time.html)."
   ]
  },
  {
   "cell_type": "code",
   "execution_count": null,
   "metadata": {},
   "outputs": [],
   "source": [
    "import time\n",
    "import numpy as np\n",
    "\n",
    "size_of_vec = 1000\n",
    "\n",
    "def pure_python_version():\n",
    "    t1 = time.time()\n",
    "    X = range(size_of_vec)\n",
    "    Y = range(size_of_vec)\n",
    "    Z = [X[i] + Y[i] for i in range(len(X))]\n",
    "    return time.time() - t1\n",
    "\n",
    "def numpy_version():\n",
    "    t1 = time.time()\n",
    "    X = np.arange(size_of_vec)\n",
    "    Y = np.arange(size_of_vec)\n",
    "    Z = X + Y\n",
    "    return time.time() - t1\n",
    "\n",
    "\n",
    "t1 = pure_python_version()\n",
    "t2 = numpy_version()\n",
    "print(\"python: \" + str(t1), \"numpy: \"+ str(t2))\n",
    "print(\"Numpy is in this example \" + str(t1/t2) + \" times faster!\")"
   ]
  },
  {
   "cell_type": "markdown",
   "metadata": {},
   "source": [
    "In pairs, run the speed test with a different number, and share your results with the class."
   ]
  },
  {
   "cell_type": "markdown",
   "metadata": {},
   "source": [
    "### 3. Importing and reading data with ACTUAL LITERAL Pandas!\n",
    "\n",
    "\n",
    "![pandas-lib](https://pandas.pydata.org/_static/pandas_logo.png)\n",
    "\n",
    "![alt text](https://cdn-images-1.medium.com/max/1600/1*oBx032ncOwLmCFX3Epo3Zg.jpeg \"https://cdn-images-1.medium.com/max/1600/1*oBx032ncOwLmCFX3Epo3Zg.jpeg\")\n",
    "\n",
    "#### Let's use pandas to read some csv files so we can interact with them.\n",
    "\n",
    "First, let's check which directory we are in so the files we expect to see are there."
   ]
  },
  {
   "cell_type": "code",
   "execution_count": null,
   "metadata": {},
   "outputs": [],
   "source": [
    "!pwd"
   ]
  },
  {
   "cell_type": "code",
   "execution_count": null,
   "metadata": {},
   "outputs": [],
   "source": [
    "!pwd\n",
    "!ls -la"
   ]
  },
  {
   "cell_type": "markdown",
   "metadata": {},
   "source": [
    "Did you see that? It is possible to run terminal commands from jupyter notebook by using `!`"
   ]
  },
  {
   "cell_type": "code",
   "execution_count": null,
   "metadata": {},
   "outputs": [],
   "source": [
    "import pandas as pd\n",
    "example_csv=pd.read_csv('example1.csv')"
   ]
  },
  {
   "cell_type": "markdown",
   "metadata": {},
   "source": [
    "There are also `read_excel` and many other pandas `read` functions."
   ]
  },
  {
   "cell_type": "code",
   "execution_count": null,
   "metadata": {},
   "outputs": [],
   "source": [
    "example_csv.head() #this is an example template of how to read a csv"
   ]
  },
  {
   "cell_type": "markdown",
   "metadata": {},
   "source": [
    "Try loading in the example file in the directory called 'made_up_jobs.csv' using pandas."
   ]
  },
  {
   "cell_type": "code",
   "execution_count": null,
   "metadata": {},
   "outputs": [],
   "source": [
    "#read in your csv here!\n",
    "jobs_df = pd.read_csv(\"made_up_jobs.csv\")\n",
    "\n",
    "\n",
    "#remember that it's nice to be able to look at your data, so let's do that here, too.\n",
    "jobs_df.head()"
   ]
  },
  {
   "cell_type": "code",
   "execution_count": null,
   "metadata": {},
   "outputs": [],
   "source": [
    "jobs_df.shape"
   ]
  },
  {
   "cell_type": "markdown",
   "metadata": {},
   "source": [
    "You can also load in data by using the url of an associated dataset."
   ]
  },
  {
   "cell_type": "code",
   "execution_count": 14,
   "metadata": {},
   "outputs": [
    {
     "name": "stdout",
     "output_type": "stream",
     "text": [
      "--2019-08-13 10:08:25--  https://data.austintexas.gov/api/views/9t4d-g238/rows.csv?accessType=DOWNLOAD\n",
      "Resolving data.austintexas.gov (data.austintexas.gov)... 52.206.68.26, 52.206.140.199, 52.206.140.205\n",
      "Connecting to data.austintexas.gov (data.austintexas.gov)|52.206.68.26|:443... connected.\n",
      "HTTP request sent, awaiting response... 200 OK\n",
      "Length: unspecified [text/csv]\n",
      "Saving to: ‘STDOUT’\n",
      "\n",
      "-                       [             <=>    ]  14.24M  2.99MB/s    in 4.7s    \n",
      "\n",
      "2019-08-13 10:08:30 (3.04 MB/s) - written to stdout [14931087]\n",
      "\n"
     ]
    }
   ],
   "source": [
    "!wget -O - 'https://data.austintexas.gov/api/views/9t4d-g238/rows.csv?accessType=DOWNLOAD' > shelter_data.csv"
   ]
  },
  {
   "cell_type": "code",
   "execution_count": 15,
   "metadata": {},
   "outputs": [
    {
     "name": "stdout",
     "output_type": "stream",
     "text": [
      "LICENSE          example1.csv     made_up_jobs.csv\r\n",
      "README.md        index.ipynb      shelter_data.csv\r\n"
     ]
    }
   ],
   "source": [
    "!ls"
   ]
  },
  {
   "cell_type": "code",
   "execution_count": 17,
   "metadata": {},
   "outputs": [],
   "source": [
    "import numpy as np\n",
    "import pandas as pd\n",
    "import datetime"
   ]
  },
  {
   "cell_type": "code",
   "execution_count": 48,
   "metadata": {},
   "outputs": [
    {
     "data": {
      "text/html": [
       "<div>\n",
       "<style scoped>\n",
       "    .dataframe tbody tr th:only-of-type {\n",
       "        vertical-align: middle;\n",
       "    }\n",
       "\n",
       "    .dataframe tbody tr th {\n",
       "        vertical-align: top;\n",
       "    }\n",
       "\n",
       "    .dataframe thead th {\n",
       "        text-align: right;\n",
       "    }\n",
       "</style>\n",
       "<table border=\"1\" class=\"dataframe\">\n",
       "  <thead>\n",
       "    <tr style=\"text-align: right;\">\n",
       "      <th></th>\n",
       "      <th>Animal ID</th>\n",
       "      <th>Name</th>\n",
       "      <th>DateTime</th>\n",
       "      <th>MonthYear</th>\n",
       "      <th>Date of Birth</th>\n",
       "      <th>Outcome Type</th>\n",
       "      <th>Outcome Subtype</th>\n",
       "      <th>Animal Type</th>\n",
       "      <th>Sex upon Outcome</th>\n",
       "      <th>Age upon Outcome</th>\n",
       "      <th>Breed</th>\n",
       "      <th>Color</th>\n",
       "    </tr>\n",
       "  </thead>\n",
       "  <tbody>\n",
       "    <tr>\n",
       "      <th>0</th>\n",
       "      <td>A797813</td>\n",
       "      <td>*Floof</td>\n",
       "      <td>08/13/2019 10:56:00 AM</td>\n",
       "      <td>08/13/2019 10:56:00 AM</td>\n",
       "      <td>04/03/2019</td>\n",
       "      <td>Transfer</td>\n",
       "      <td>Partner</td>\n",
       "      <td>Cat</td>\n",
       "      <td>Neutered Male</td>\n",
       "      <td>4 months</td>\n",
       "      <td>Domestic Medium Hair</td>\n",
       "      <td>Black</td>\n",
       "    </tr>\n",
       "    <tr>\n",
       "      <th>1</th>\n",
       "      <td>A800016</td>\n",
       "      <td>*Jackson</td>\n",
       "      <td>08/13/2019 10:56:00 AM</td>\n",
       "      <td>08/13/2019 10:56:00 AM</td>\n",
       "      <td>06/03/2019</td>\n",
       "      <td>Adoption</td>\n",
       "      <td>Foster</td>\n",
       "      <td>Dog</td>\n",
       "      <td>Intact Male</td>\n",
       "      <td>2 months</td>\n",
       "      <td>Chihuahua Shorthair Mix</td>\n",
       "      <td>Tan</td>\n",
       "    </tr>\n",
       "    <tr>\n",
       "      <th>2</th>\n",
       "      <td>A797817</td>\n",
       "      <td>*Piper</td>\n",
       "      <td>08/13/2019 10:56:00 AM</td>\n",
       "      <td>08/13/2019 10:56:00 AM</td>\n",
       "      <td>04/03/2019</td>\n",
       "      <td>Transfer</td>\n",
       "      <td>Partner</td>\n",
       "      <td>Cat</td>\n",
       "      <td>Spayed Female</td>\n",
       "      <td>4 months</td>\n",
       "      <td>Domestic Shorthair</td>\n",
       "      <td>Calico</td>\n",
       "    </tr>\n",
       "    <tr>\n",
       "      <th>3</th>\n",
       "      <td>A787607</td>\n",
       "      <td>Bobo</td>\n",
       "      <td>08/13/2019 10:55:00 AM</td>\n",
       "      <td>08/13/2019 10:55:00 AM</td>\n",
       "      <td>11/05/2018</td>\n",
       "      <td>Transfer</td>\n",
       "      <td>Partner</td>\n",
       "      <td>Dog</td>\n",
       "      <td>Neutered Male</td>\n",
       "      <td>9 months</td>\n",
       "      <td>Australian Cattle Dog Mix</td>\n",
       "      <td>Black/Tricolor</td>\n",
       "    </tr>\n",
       "    <tr>\n",
       "      <th>4</th>\n",
       "      <td>A801031</td>\n",
       "      <td>*Margie</td>\n",
       "      <td>08/13/2019 10:55:00 AM</td>\n",
       "      <td>08/13/2019 10:55:00 AM</td>\n",
       "      <td>01/30/2018</td>\n",
       "      <td>Transfer</td>\n",
       "      <td>Partner</td>\n",
       "      <td>Dog</td>\n",
       "      <td>Spayed Female</td>\n",
       "      <td>1 year</td>\n",
       "      <td>German Shepherd</td>\n",
       "      <td>Black/Brown</td>\n",
       "    </tr>\n",
       "  </tbody>\n",
       "</table>\n",
       "</div>"
      ],
      "text/plain": [
       "  Animal ID      Name                DateTime               MonthYear  \\\n",
       "0   A797813    *Floof  08/13/2019 10:56:00 AM  08/13/2019 10:56:00 AM   \n",
       "1   A800016  *Jackson  08/13/2019 10:56:00 AM  08/13/2019 10:56:00 AM   \n",
       "2   A797817    *Piper  08/13/2019 10:56:00 AM  08/13/2019 10:56:00 AM   \n",
       "3   A787607      Bobo  08/13/2019 10:55:00 AM  08/13/2019 10:55:00 AM   \n",
       "4   A801031   *Margie  08/13/2019 10:55:00 AM  08/13/2019 10:55:00 AM   \n",
       "\n",
       "  Date of Birth Outcome Type Outcome Subtype Animal Type Sex upon Outcome  \\\n",
       "0    04/03/2019     Transfer         Partner         Cat    Neutered Male   \n",
       "1    06/03/2019     Adoption          Foster         Dog      Intact Male   \n",
       "2    04/03/2019     Transfer         Partner         Cat    Spayed Female   \n",
       "3    11/05/2018     Transfer         Partner         Dog    Neutered Male   \n",
       "4    01/30/2018     Transfer         Partner         Dog    Spayed Female   \n",
       "\n",
       "  Age upon Outcome                      Breed           Color  \n",
       "0         4 months       Domestic Medium Hair           Black  \n",
       "1         2 months    Chihuahua Shorthair Mix             Tan  \n",
       "2         4 months         Domestic Shorthair          Calico  \n",
       "3         9 months  Australian Cattle Dog Mix  Black/Tricolor  \n",
       "4           1 year            German Shepherd     Black/Brown  "
      ]
     },
     "execution_count": 48,
     "metadata": {},
     "output_type": "execute_result"
    }
   ],
   "source": [
    "shelter_data=pd.read_csv('shelter_data.csv') \n",
    "#this link is copied directly from the download option for CSV\n",
    "\n",
    "shelter_data.head()"
   ]
  },
  {
   "cell_type": "code",
   "execution_count": 19,
   "metadata": {},
   "outputs": [
    {
     "data": {
      "text/plain": [
       "0        2019-08-13 10:56:00\n",
       "1        2019-08-13 10:56:00\n",
       "2        2019-08-13 10:56:00\n",
       "3        2019-08-13 10:55:00\n",
       "4        2019-08-13 10:55:00\n",
       "5        2019-08-13 10:55:00\n",
       "6        2019-08-13 10:54:00\n",
       "7        2019-08-13 10:54:00\n",
       "8        2019-08-13 10:53:00\n",
       "9        2019-08-13 08:58:00\n",
       "10       2019-08-13 08:02:00\n",
       "11       2019-08-13 06:29:00\n",
       "12       2019-08-12 21:26:00\n",
       "13       2019-08-12 21:25:00\n",
       "14       2019-08-12 18:47:00\n",
       "15       2019-08-12 18:46:00\n",
       "16       2019-08-12 18:33:00\n",
       "17       2019-08-12 18:31:00\n",
       "18       2019-08-12 18:26:00\n",
       "19       2019-08-12 18:03:00\n",
       "20       2019-08-12 17:58:00\n",
       "21       2019-08-12 17:48:00\n",
       "22       2019-08-12 17:35:00\n",
       "23       2019-08-12 17:31:00\n",
       "24       2019-08-12 17:03:00\n",
       "25       2019-08-12 17:01:00\n",
       "26       2019-08-12 16:47:00\n",
       "27       2019-08-12 16:46:00\n",
       "28       2019-08-12 16:41:00\n",
       "29       2019-08-12 16:35:00\n",
       "                 ...        \n",
       "105730   2013-10-01 15:07:00\n",
       "105731   2013-10-01 14:15:00\n",
       "105732   2013-10-01 14:14:00\n",
       "105733   2013-10-01 14:13:00\n",
       "105734   2013-10-01 13:59:00\n",
       "105735   2013-10-01 13:16:00\n",
       "105736   2013-10-01 13:00:00\n",
       "105737   2013-10-01 13:00:00\n",
       "105738   2013-10-01 12:59:00\n",
       "105739   2013-10-01 12:58:00\n",
       "105740   2013-10-01 12:57:00\n",
       "105741   2013-10-01 12:45:00\n",
       "105742   2013-10-01 12:34:00\n",
       "105743   2013-10-01 12:32:00\n",
       "105744   2013-10-01 12:27:00\n",
       "105745   2013-10-01 12:27:00\n",
       "105746   2013-10-01 12:24:00\n",
       "105747   2013-10-01 12:13:00\n",
       "105748   2013-10-01 12:05:00\n",
       "105749   2013-10-01 11:53:00\n",
       "105750   2013-10-01 11:53:00\n",
       "105751   2013-10-01 11:50:00\n",
       "105752   2013-10-01 11:42:00\n",
       "105753   2013-10-01 11:13:00\n",
       "105754   2013-10-01 11:12:00\n",
       "105755   2013-10-01 11:03:00\n",
       "105756   2013-10-01 10:44:00\n",
       "105757   2013-10-01 10:44:00\n",
       "105758   2013-10-01 10:39:00\n",
       "105759   2013-10-01 09:31:00\n",
       "Name: DateTime, Length: 105760, dtype: datetime64[ns]"
      ]
     },
     "execution_count": 19,
     "metadata": {},
     "output_type": "execute_result"
    }
   ],
   "source": [
    "pd.to_datetime(shelter_data['DateTime'])"
   ]
  },
  {
   "cell_type": "markdown",
   "metadata": {},
   "source": [
    "### Change the index of the dataframe so that it is the numeric animal ID, as an integer, with the letter A removed"
   ]
  },
  {
   "cell_type": "code",
   "execution_count": 52,
   "metadata": {},
   "outputs": [],
   "source": [
    "animal_id_index = shelter_data['Animal ID'].str[1:]\n",
    "animal_id_index_int = animal_id_index.astype(int)"
   ]
  },
  {
   "cell_type": "code",
   "execution_count": 53,
   "metadata": {},
   "outputs": [
    {
     "data": {
      "text/plain": [
       "797813"
      ]
     },
     "execution_count": 53,
     "metadata": {},
     "output_type": "execute_result"
    }
   ],
   "source": [
    "animal_id_index_int[0]"
   ]
  },
  {
   "cell_type": "code",
   "execution_count": 55,
   "metadata": {},
   "outputs": [
    {
     "data": {
      "text/html": [
       "<div>\n",
       "<style scoped>\n",
       "    .dataframe tbody tr th:only-of-type {\n",
       "        vertical-align: middle;\n",
       "    }\n",
       "\n",
       "    .dataframe tbody tr th {\n",
       "        vertical-align: top;\n",
       "    }\n",
       "\n",
       "    .dataframe thead th {\n",
       "        text-align: right;\n",
       "    }\n",
       "</style>\n",
       "<table border=\"1\" class=\"dataframe\">\n",
       "  <thead>\n",
       "    <tr style=\"text-align: right;\">\n",
       "      <th></th>\n",
       "      <th>Animal ID</th>\n",
       "      <th>Name</th>\n",
       "      <th>DateTime</th>\n",
       "      <th>MonthYear</th>\n",
       "      <th>Date of Birth</th>\n",
       "      <th>Outcome Type</th>\n",
       "      <th>Outcome Subtype</th>\n",
       "      <th>Animal Type</th>\n",
       "      <th>Sex upon Outcome</th>\n",
       "      <th>Age upon Outcome</th>\n",
       "      <th>Breed</th>\n",
       "      <th>Color</th>\n",
       "    </tr>\n",
       "    <tr>\n",
       "      <th>Animal ID</th>\n",
       "      <th></th>\n",
       "      <th></th>\n",
       "      <th></th>\n",
       "      <th></th>\n",
       "      <th></th>\n",
       "      <th></th>\n",
       "      <th></th>\n",
       "      <th></th>\n",
       "      <th></th>\n",
       "      <th></th>\n",
       "      <th></th>\n",
       "      <th></th>\n",
       "    </tr>\n",
       "  </thead>\n",
       "  <tbody>\n",
       "    <tr>\n",
       "      <th>797813</th>\n",
       "      <td>A797813</td>\n",
       "      <td>*Floof</td>\n",
       "      <td>08/13/2019 10:56:00 AM</td>\n",
       "      <td>08/13/2019 10:56:00 AM</td>\n",
       "      <td>04/03/2019</td>\n",
       "      <td>Transfer</td>\n",
       "      <td>Partner</td>\n",
       "      <td>Cat</td>\n",
       "      <td>Neutered Male</td>\n",
       "      <td>4 months</td>\n",
       "      <td>Domestic Medium Hair</td>\n",
       "      <td>Black</td>\n",
       "    </tr>\n",
       "    <tr>\n",
       "      <th>800016</th>\n",
       "      <td>A800016</td>\n",
       "      <td>*Jackson</td>\n",
       "      <td>08/13/2019 10:56:00 AM</td>\n",
       "      <td>08/13/2019 10:56:00 AM</td>\n",
       "      <td>06/03/2019</td>\n",
       "      <td>Adoption</td>\n",
       "      <td>Foster</td>\n",
       "      <td>Dog</td>\n",
       "      <td>Intact Male</td>\n",
       "      <td>2 months</td>\n",
       "      <td>Chihuahua Shorthair Mix</td>\n",
       "      <td>Tan</td>\n",
       "    </tr>\n",
       "    <tr>\n",
       "      <th>797817</th>\n",
       "      <td>A797817</td>\n",
       "      <td>*Piper</td>\n",
       "      <td>08/13/2019 10:56:00 AM</td>\n",
       "      <td>08/13/2019 10:56:00 AM</td>\n",
       "      <td>04/03/2019</td>\n",
       "      <td>Transfer</td>\n",
       "      <td>Partner</td>\n",
       "      <td>Cat</td>\n",
       "      <td>Spayed Female</td>\n",
       "      <td>4 months</td>\n",
       "      <td>Domestic Shorthair</td>\n",
       "      <td>Calico</td>\n",
       "    </tr>\n",
       "    <tr>\n",
       "      <th>787607</th>\n",
       "      <td>A787607</td>\n",
       "      <td>Bobo</td>\n",
       "      <td>08/13/2019 10:55:00 AM</td>\n",
       "      <td>08/13/2019 10:55:00 AM</td>\n",
       "      <td>11/05/2018</td>\n",
       "      <td>Transfer</td>\n",
       "      <td>Partner</td>\n",
       "      <td>Dog</td>\n",
       "      <td>Neutered Male</td>\n",
       "      <td>9 months</td>\n",
       "      <td>Australian Cattle Dog Mix</td>\n",
       "      <td>Black/Tricolor</td>\n",
       "    </tr>\n",
       "    <tr>\n",
       "      <th>801031</th>\n",
       "      <td>A801031</td>\n",
       "      <td>*Margie</td>\n",
       "      <td>08/13/2019 10:55:00 AM</td>\n",
       "      <td>08/13/2019 10:55:00 AM</td>\n",
       "      <td>01/30/2018</td>\n",
       "      <td>Transfer</td>\n",
       "      <td>Partner</td>\n",
       "      <td>Dog</td>\n",
       "      <td>Spayed Female</td>\n",
       "      <td>1 year</td>\n",
       "      <td>German Shepherd</td>\n",
       "      <td>Black/Brown</td>\n",
       "    </tr>\n",
       "    <tr>\n",
       "      <th>800998</th>\n",
       "      <td>A800998</td>\n",
       "      <td>*Heath</td>\n",
       "      <td>08/13/2019 10:55:00 AM</td>\n",
       "      <td>08/13/2019 10:55:00 AM</td>\n",
       "      <td>07/29/2017</td>\n",
       "      <td>Transfer</td>\n",
       "      <td>Partner</td>\n",
       "      <td>Dog</td>\n",
       "      <td>Intact Male</td>\n",
       "      <td>2 years</td>\n",
       "      <td>Border Collie Mix</td>\n",
       "      <td>Black/White</td>\n",
       "    </tr>\n",
       "    <tr>\n",
       "      <th>800496</th>\n",
       "      <td>A800496</td>\n",
       "      <td>*Marius</td>\n",
       "      <td>08/13/2019 10:54:00 AM</td>\n",
       "      <td>08/13/2019 10:54:00 AM</td>\n",
       "      <td>09/22/2018</td>\n",
       "      <td>Transfer</td>\n",
       "      <td>Partner</td>\n",
       "      <td>Dog</td>\n",
       "      <td>Intact Male</td>\n",
       "      <td>10 months</td>\n",
       "      <td>Staffordshire</td>\n",
       "      <td>Red</td>\n",
       "    </tr>\n",
       "    <tr>\n",
       "      <th>796087</th>\n",
       "      <td>A796087</td>\n",
       "      <td>Daisy</td>\n",
       "      <td>08/13/2019 10:54:00 AM</td>\n",
       "      <td>08/13/2019 10:54:00 AM</td>\n",
       "      <td>02/28/2019</td>\n",
       "      <td>Transfer</td>\n",
       "      <td>Partner</td>\n",
       "      <td>Dog</td>\n",
       "      <td>Spayed Female</td>\n",
       "      <td>5 months</td>\n",
       "      <td>Beagle</td>\n",
       "      <td>White/Brown</td>\n",
       "    </tr>\n",
       "    <tr>\n",
       "      <th>801528</th>\n",
       "      <td>A801528</td>\n",
       "      <td>*Frannie</td>\n",
       "      <td>08/13/2019 10:53:00 AM</td>\n",
       "      <td>08/13/2019 10:53:00 AM</td>\n",
       "      <td>02/05/2019</td>\n",
       "      <td>Transfer</td>\n",
       "      <td>Partner</td>\n",
       "      <td>Dog</td>\n",
       "      <td>Intact Female</td>\n",
       "      <td>6 months</td>\n",
       "      <td>Labrador Retriever/Beagle</td>\n",
       "      <td>Red/White</td>\n",
       "    </tr>\n",
       "    <tr>\n",
       "      <th>798869</th>\n",
       "      <td>A798869</td>\n",
       "      <td>*Willie</td>\n",
       "      <td>08/13/2019 08:58:00 AM</td>\n",
       "      <td>08/13/2019 08:58:00 AM</td>\n",
       "      <td>05/26/2019</td>\n",
       "      <td>Adoption</td>\n",
       "      <td>Foster</td>\n",
       "      <td>Cat</td>\n",
       "      <td>Neutered Male</td>\n",
       "      <td>2 months</td>\n",
       "      <td>Domestic Shorthair</td>\n",
       "      <td>Blue/White</td>\n",
       "    </tr>\n",
       "    <tr>\n",
       "      <th>798474</th>\n",
       "      <td>A798474</td>\n",
       "      <td>*Peep</td>\n",
       "      <td>08/13/2019 08:02:00 AM</td>\n",
       "      <td>08/13/2019 08:02:00 AM</td>\n",
       "      <td>05/22/2019</td>\n",
       "      <td>Adoption</td>\n",
       "      <td>Foster</td>\n",
       "      <td>Cat</td>\n",
       "      <td>Spayed Female</td>\n",
       "      <td>2 months</td>\n",
       "      <td>Domestic Longhair</td>\n",
       "      <td>Black/White</td>\n",
       "    </tr>\n",
       "    <tr>\n",
       "      <th>795994</th>\n",
       "      <td>A795994</td>\n",
       "      <td>NaN</td>\n",
       "      <td>08/13/2019 06:29:00 AM</td>\n",
       "      <td>08/13/2019 06:29:00 AM</td>\n",
       "      <td>04/27/2019</td>\n",
       "      <td>Adoption</td>\n",
       "      <td>Foster</td>\n",
       "      <td>Dog</td>\n",
       "      <td>Spayed Female</td>\n",
       "      <td>3 months</td>\n",
       "      <td>Chihuahua Shorthair</td>\n",
       "      <td>White/Tan</td>\n",
       "    </tr>\n",
       "    <tr>\n",
       "      <th>800922</th>\n",
       "      <td>A800922</td>\n",
       "      <td>Scout</td>\n",
       "      <td>08/12/2019 09:26:00 PM</td>\n",
       "      <td>08/12/2019 09:26:00 PM</td>\n",
       "      <td>11/28/2018</td>\n",
       "      <td>Adoption</td>\n",
       "      <td>NaN</td>\n",
       "      <td>Dog</td>\n",
       "      <td>Spayed Female</td>\n",
       "      <td>8 months</td>\n",
       "      <td>Rat Terrier/Chihuahua Shorthair</td>\n",
       "      <td>Brown/White</td>\n",
       "    </tr>\n",
       "    <tr>\n",
       "      <th>801728</th>\n",
       "      <td>A801728</td>\n",
       "      <td>NaN</td>\n",
       "      <td>08/12/2019 09:25:00 PM</td>\n",
       "      <td>08/12/2019 09:25:00 PM</td>\n",
       "      <td>08/08/2018</td>\n",
       "      <td>Adoption</td>\n",
       "      <td>NaN</td>\n",
       "      <td>Dog</td>\n",
       "      <td>Neutered Male</td>\n",
       "      <td>1 year</td>\n",
       "      <td>Chihuahua Shorthair</td>\n",
       "      <td>Black/White</td>\n",
       "    </tr>\n",
       "    <tr>\n",
       "      <th>801494</th>\n",
       "      <td>A801494</td>\n",
       "      <td>Ramona</td>\n",
       "      <td>08/12/2019 06:47:00 PM</td>\n",
       "      <td>08/12/2019 06:47:00 PM</td>\n",
       "      <td>06/05/2019</td>\n",
       "      <td>Adoption</td>\n",
       "      <td>NaN</td>\n",
       "      <td>Dog</td>\n",
       "      <td>Spayed Female</td>\n",
       "      <td>2 months</td>\n",
       "      <td>Blue Lacy</td>\n",
       "      <td>Blue/White</td>\n",
       "    </tr>\n",
       "    <tr>\n",
       "      <th>801720</th>\n",
       "      <td>A801720</td>\n",
       "      <td>NaN</td>\n",
       "      <td>08/12/2019 06:46:00 PM</td>\n",
       "      <td>08/12/2019 06:46:00 PM</td>\n",
       "      <td>01/08/2019</td>\n",
       "      <td>Adoption</td>\n",
       "      <td>NaN</td>\n",
       "      <td>Dog</td>\n",
       "      <td>Neutered Male</td>\n",
       "      <td>7 months</td>\n",
       "      <td>Miniature Schnauzer</td>\n",
       "      <td>Gray/Brown</td>\n",
       "    </tr>\n",
       "    <tr>\n",
       "      <th>801995</th>\n",
       "      <td>A801995</td>\n",
       "      <td>NaN</td>\n",
       "      <td>08/12/2019 06:33:00 PM</td>\n",
       "      <td>08/12/2019 06:33:00 PM</td>\n",
       "      <td>08/12/2017</td>\n",
       "      <td>Disposal</td>\n",
       "      <td>NaN</td>\n",
       "      <td>Other</td>\n",
       "      <td>Unknown</td>\n",
       "      <td>2 years</td>\n",
       "      <td>Bat</td>\n",
       "      <td>Black/Gray</td>\n",
       "    </tr>\n",
       "    <tr>\n",
       "      <th>501761</th>\n",
       "      <td>A501761</td>\n",
       "      <td>Pinky</td>\n",
       "      <td>08/12/2019 06:31:00 PM</td>\n",
       "      <td>08/12/2019 06:31:00 PM</td>\n",
       "      <td>05/05/2007</td>\n",
       "      <td>Adoption</td>\n",
       "      <td>Foster</td>\n",
       "      <td>Dog</td>\n",
       "      <td>Spayed Female</td>\n",
       "      <td>12 years</td>\n",
       "      <td>Chihuahua Shorthair Mix</td>\n",
       "      <td>Black/White</td>\n",
       "    </tr>\n",
       "    <tr>\n",
       "      <th>801546</th>\n",
       "      <td>A801546</td>\n",
       "      <td>Lindsay</td>\n",
       "      <td>08/12/2019 06:26:00 PM</td>\n",
       "      <td>08/12/2019 06:26:00 PM</td>\n",
       "      <td>08/05/2016</td>\n",
       "      <td>Adoption</td>\n",
       "      <td>NaN</td>\n",
       "      <td>Dog</td>\n",
       "      <td>Spayed Female</td>\n",
       "      <td>3 years</td>\n",
       "      <td>Labrador Retriever Mix</td>\n",
       "      <td>Tan/White</td>\n",
       "    </tr>\n",
       "    <tr>\n",
       "      <th>800766</th>\n",
       "      <td>A800766</td>\n",
       "      <td>*Duncan</td>\n",
       "      <td>08/12/2019 06:03:00 PM</td>\n",
       "      <td>08/12/2019 06:03:00 PM</td>\n",
       "      <td>09/26/2018</td>\n",
       "      <td>Adoption</td>\n",
       "      <td>NaN</td>\n",
       "      <td>Dog</td>\n",
       "      <td>Neutered Male</td>\n",
       "      <td>10 months</td>\n",
       "      <td>Labrador Retriever/Great Dane</td>\n",
       "      <td>Black/White</td>\n",
       "    </tr>\n",
       "    <tr>\n",
       "      <th>801500</th>\n",
       "      <td>A801500</td>\n",
       "      <td>*Winnie</td>\n",
       "      <td>08/12/2019 05:58:00 PM</td>\n",
       "      <td>08/12/2019 05:58:00 PM</td>\n",
       "      <td>06/05/2019</td>\n",
       "      <td>Adoption</td>\n",
       "      <td>NaN</td>\n",
       "      <td>Dog</td>\n",
       "      <td>Neutered Male</td>\n",
       "      <td>2 months</td>\n",
       "      <td>German Shepherd</td>\n",
       "      <td>Tan</td>\n",
       "    </tr>\n",
       "    <tr>\n",
       "      <th>801628</th>\n",
       "      <td>A801628</td>\n",
       "      <td>Hera</td>\n",
       "      <td>08/12/2019 05:48:00 PM</td>\n",
       "      <td>08/12/2019 05:48:00 PM</td>\n",
       "      <td>08/06/2018</td>\n",
       "      <td>Adoption</td>\n",
       "      <td>NaN</td>\n",
       "      <td>Dog</td>\n",
       "      <td>Spayed Female</td>\n",
       "      <td>1 year</td>\n",
       "      <td>Chihuahua Shorthair</td>\n",
       "      <td>Tan</td>\n",
       "    </tr>\n",
       "    <tr>\n",
       "      <th>801091</th>\n",
       "      <td>A801091</td>\n",
       "      <td>*Gabi</td>\n",
       "      <td>08/12/2019 05:35:00 PM</td>\n",
       "      <td>08/12/2019 05:35:00 PM</td>\n",
       "      <td>03/03/2019</td>\n",
       "      <td>Adoption</td>\n",
       "      <td>NaN</td>\n",
       "      <td>Dog</td>\n",
       "      <td>Spayed Female</td>\n",
       "      <td>5 months</td>\n",
       "      <td>Pit Bull</td>\n",
       "      <td>Blue/White</td>\n",
       "    </tr>\n",
       "    <tr>\n",
       "      <th>801417</th>\n",
       "      <td>A801417</td>\n",
       "      <td>NaN</td>\n",
       "      <td>08/12/2019 05:31:00 PM</td>\n",
       "      <td>08/12/2019 05:31:00 PM</td>\n",
       "      <td>06/07/2019</td>\n",
       "      <td>Adoption</td>\n",
       "      <td>NaN</td>\n",
       "      <td>Cat</td>\n",
       "      <td>Neutered Male</td>\n",
       "      <td>2 months</td>\n",
       "      <td>Domestic Shorthair</td>\n",
       "      <td>Brown Tabby</td>\n",
       "    </tr>\n",
       "    <tr>\n",
       "      <th>795481</th>\n",
       "      <td>A795481</td>\n",
       "      <td>*Bunny</td>\n",
       "      <td>08/12/2019 05:03:00 PM</td>\n",
       "      <td>08/12/2019 05:03:00 PM</td>\n",
       "      <td>05/21/2018</td>\n",
       "      <td>Adoption</td>\n",
       "      <td>NaN</td>\n",
       "      <td>Cat</td>\n",
       "      <td>Spayed Female</td>\n",
       "      <td>1 year</td>\n",
       "      <td>Domestic Shorthair</td>\n",
       "      <td>Calico</td>\n",
       "    </tr>\n",
       "    <tr>\n",
       "      <th>801222</th>\n",
       "      <td>A801222</td>\n",
       "      <td>NaN</td>\n",
       "      <td>08/12/2019 05:01:00 PM</td>\n",
       "      <td>08/12/2019 05:01:00 PM</td>\n",
       "      <td>08/01/2017</td>\n",
       "      <td>Adoption</td>\n",
       "      <td>NaN</td>\n",
       "      <td>Dog</td>\n",
       "      <td>Neutered Male</td>\n",
       "      <td>2 years</td>\n",
       "      <td>Smooth Fox Terrier Mix</td>\n",
       "      <td>Black/White</td>\n",
       "    </tr>\n",
       "    <tr>\n",
       "      <th>800437</th>\n",
       "      <td>A800437</td>\n",
       "      <td>Witten</td>\n",
       "      <td>08/12/2019 04:47:00 PM</td>\n",
       "      <td>08/12/2019 04:47:00 PM</td>\n",
       "      <td>05/31/2019</td>\n",
       "      <td>Adoption</td>\n",
       "      <td>NaN</td>\n",
       "      <td>Cat</td>\n",
       "      <td>Spayed Female</td>\n",
       "      <td>2 months</td>\n",
       "      <td>Domestic Shorthair</td>\n",
       "      <td>Black</td>\n",
       "    </tr>\n",
       "    <tr>\n",
       "      <th>801363</th>\n",
       "      <td>A801363</td>\n",
       "      <td>Gremlin</td>\n",
       "      <td>08/12/2019 04:46:00 PM</td>\n",
       "      <td>08/12/2019 04:46:00 PM</td>\n",
       "      <td>03/03/2017</td>\n",
       "      <td>Return to Owner</td>\n",
       "      <td>NaN</td>\n",
       "      <td>Cat</td>\n",
       "      <td>Neutered Male</td>\n",
       "      <td>2 years</td>\n",
       "      <td>Domestic Shorthair Mix</td>\n",
       "      <td>Black</td>\n",
       "    </tr>\n",
       "    <tr>\n",
       "      <th>801677</th>\n",
       "      <td>A801677</td>\n",
       "      <td>NaN</td>\n",
       "      <td>08/12/2019 04:41:00 PM</td>\n",
       "      <td>08/12/2019 04:41:00 PM</td>\n",
       "      <td>02/07/2019</td>\n",
       "      <td>Adoption</td>\n",
       "      <td>NaN</td>\n",
       "      <td>Dog</td>\n",
       "      <td>Neutered Male</td>\n",
       "      <td>6 months</td>\n",
       "      <td>Labrador Retriever Mix</td>\n",
       "      <td>Black/White</td>\n",
       "    </tr>\n",
       "    <tr>\n",
       "      <th>801730</th>\n",
       "      <td>A801730</td>\n",
       "      <td>NaN</td>\n",
       "      <td>08/12/2019 04:35:00 PM</td>\n",
       "      <td>08/12/2019 04:35:00 PM</td>\n",
       "      <td>05/24/2019</td>\n",
       "      <td>Adoption</td>\n",
       "      <td>NaN</td>\n",
       "      <td>Cat</td>\n",
       "      <td>Neutered Male</td>\n",
       "      <td>2 months</td>\n",
       "      <td>Domestic Shorthair</td>\n",
       "      <td>Blue Tabby</td>\n",
       "    </tr>\n",
       "    <tr>\n",
       "      <th>...</th>\n",
       "      <td>...</td>\n",
       "      <td>...</td>\n",
       "      <td>...</td>\n",
       "      <td>...</td>\n",
       "      <td>...</td>\n",
       "      <td>...</td>\n",
       "      <td>...</td>\n",
       "      <td>...</td>\n",
       "      <td>...</td>\n",
       "      <td>...</td>\n",
       "      <td>...</td>\n",
       "      <td>...</td>\n",
       "    </tr>\n",
       "    <tr>\n",
       "      <th>663887</th>\n",
       "      <td>A663887</td>\n",
       "      <td>Hooch</td>\n",
       "      <td>10/01/2013 03:07:00 PM</td>\n",
       "      <td>10/01/2013 03:07:00 PM</td>\n",
       "      <td>09/25/2010</td>\n",
       "      <td>Euthanasia</td>\n",
       "      <td>Medical</td>\n",
       "      <td>Dog</td>\n",
       "      <td>Neutered Male</td>\n",
       "      <td>3 years</td>\n",
       "      <td>Pit Bull Mix</td>\n",
       "      <td>Red/White</td>\n",
       "    </tr>\n",
       "    <tr>\n",
       "      <th>663935</th>\n",
       "      <td>A663935</td>\n",
       "      <td>NaN</td>\n",
       "      <td>10/01/2013 02:15:00 PM</td>\n",
       "      <td>10/01/2013 02:15:00 PM</td>\n",
       "      <td>09/26/1999</td>\n",
       "      <td>Transfer</td>\n",
       "      <td>Partner</td>\n",
       "      <td>Dog</td>\n",
       "      <td>Intact Male</td>\n",
       "      <td>14 years</td>\n",
       "      <td>Chihuahua Shorthair Mix</td>\n",
       "      <td>Brown</td>\n",
       "    </tr>\n",
       "    <tr>\n",
       "      <th>663201</th>\n",
       "      <td>A663201</td>\n",
       "      <td>Buck</td>\n",
       "      <td>10/01/2013 02:14:00 PM</td>\n",
       "      <td>10/01/2013 02:14:00 PM</td>\n",
       "      <td>09/14/2011</td>\n",
       "      <td>Transfer</td>\n",
       "      <td>Partner</td>\n",
       "      <td>Dog</td>\n",
       "      <td>Neutered Male</td>\n",
       "      <td>2 years</td>\n",
       "      <td>Pit Bull Mix</td>\n",
       "      <td>Brown/White</td>\n",
       "    </tr>\n",
       "    <tr>\n",
       "      <th>663955</th>\n",
       "      <td>A663955</td>\n",
       "      <td>NaN</td>\n",
       "      <td>10/01/2013 02:13:00 PM</td>\n",
       "      <td>10/01/2013 02:13:00 PM</td>\n",
       "      <td>09/27/1999</td>\n",
       "      <td>Transfer</td>\n",
       "      <td>Partner</td>\n",
       "      <td>Dog</td>\n",
       "      <td>Intact Female</td>\n",
       "      <td>14 years</td>\n",
       "      <td>Chihuahua Shorthair Mix</td>\n",
       "      <td>Black/Tan</td>\n",
       "    </tr>\n",
       "    <tr>\n",
       "      <th>664171</th>\n",
       "      <td>A664171</td>\n",
       "      <td>Knight</td>\n",
       "      <td>10/01/2013 01:59:00 PM</td>\n",
       "      <td>10/01/2013 01:59:00 PM</td>\n",
       "      <td>12/30/2012</td>\n",
       "      <td>Return to Owner</td>\n",
       "      <td>NaN</td>\n",
       "      <td>Dog</td>\n",
       "      <td>Neutered Male</td>\n",
       "      <td>9 months</td>\n",
       "      <td>Basset Hound Mix</td>\n",
       "      <td>Black</td>\n",
       "    </tr>\n",
       "    <tr>\n",
       "      <th>663938</th>\n",
       "      <td>A663938</td>\n",
       "      <td>NaN</td>\n",
       "      <td>10/01/2013 01:16:00 PM</td>\n",
       "      <td>10/01/2013 01:16:00 PM</td>\n",
       "      <td>09/27/2003</td>\n",
       "      <td>Euthanasia</td>\n",
       "      <td>Suffering</td>\n",
       "      <td>Dog</td>\n",
       "      <td>Neutered Male</td>\n",
       "      <td>10 years</td>\n",
       "      <td>Rottweiler/Labrador Retriever</td>\n",
       "      <td>Black/Tan</td>\n",
       "    </tr>\n",
       "    <tr>\n",
       "      <th>664261</th>\n",
       "      <td>A664261</td>\n",
       "      <td>NaN</td>\n",
       "      <td>10/01/2013 01:00:00 PM</td>\n",
       "      <td>10/01/2013 01:00:00 PM</td>\n",
       "      <td>09/10/2013</td>\n",
       "      <td>Transfer</td>\n",
       "      <td>Partner</td>\n",
       "      <td>Cat</td>\n",
       "      <td>Intact Female</td>\n",
       "      <td>3 weeks</td>\n",
       "      <td>Domestic Shorthair Mix</td>\n",
       "      <td>Tortie</td>\n",
       "    </tr>\n",
       "    <tr>\n",
       "      <th>664260</th>\n",
       "      <td>A664260</td>\n",
       "      <td>NaN</td>\n",
       "      <td>10/01/2013 01:00:00 PM</td>\n",
       "      <td>10/01/2013 01:00:00 PM</td>\n",
       "      <td>09/10/2013</td>\n",
       "      <td>Transfer</td>\n",
       "      <td>Partner</td>\n",
       "      <td>Cat</td>\n",
       "      <td>Intact Female</td>\n",
       "      <td>3 weeks</td>\n",
       "      <td>Domestic Shorthair Mix</td>\n",
       "      <td>Black/White</td>\n",
       "    </tr>\n",
       "    <tr>\n",
       "      <th>664262</th>\n",
       "      <td>A664262</td>\n",
       "      <td>NaN</td>\n",
       "      <td>10/01/2013 12:59:00 PM</td>\n",
       "      <td>10/01/2013 12:59:00 PM</td>\n",
       "      <td>09/22/2013</td>\n",
       "      <td>Transfer</td>\n",
       "      <td>Partner</td>\n",
       "      <td>Cat</td>\n",
       "      <td>Intact Male</td>\n",
       "      <td>1 weeks</td>\n",
       "      <td>Domestic Shorthair Mix</td>\n",
       "      <td>Orange Tabby</td>\n",
       "    </tr>\n",
       "    <tr>\n",
       "      <th>664263</th>\n",
       "      <td>A664263</td>\n",
       "      <td>NaN</td>\n",
       "      <td>10/01/2013 12:58:00 PM</td>\n",
       "      <td>10/01/2013 12:58:00 PM</td>\n",
       "      <td>09/22/2013</td>\n",
       "      <td>Transfer</td>\n",
       "      <td>Partner</td>\n",
       "      <td>Cat</td>\n",
       "      <td>Intact Male</td>\n",
       "      <td>1 weeks</td>\n",
       "      <td>Domestic Shorthair Mix</td>\n",
       "      <td>Orange Tabby</td>\n",
       "    </tr>\n",
       "    <tr>\n",
       "      <th>664271</th>\n",
       "      <td>A664271</td>\n",
       "      <td>NaN</td>\n",
       "      <td>10/01/2013 12:57:00 PM</td>\n",
       "      <td>10/01/2013 12:57:00 PM</td>\n",
       "      <td>09/24/2013</td>\n",
       "      <td>Transfer</td>\n",
       "      <td>Partner</td>\n",
       "      <td>Cat</td>\n",
       "      <td>Intact Female</td>\n",
       "      <td>1 week</td>\n",
       "      <td>Domestic Shorthair Mix</td>\n",
       "      <td>Orange Tabby</td>\n",
       "    </tr>\n",
       "    <tr>\n",
       "      <th>663495</th>\n",
       "      <td>A663495</td>\n",
       "      <td>Pikachu</td>\n",
       "      <td>10/01/2013 12:45:00 PM</td>\n",
       "      <td>10/01/2013 12:45:00 PM</td>\n",
       "      <td>05/19/2013</td>\n",
       "      <td>Return to Owner</td>\n",
       "      <td>NaN</td>\n",
       "      <td>Cat</td>\n",
       "      <td>Spayed Female</td>\n",
       "      <td>4 months</td>\n",
       "      <td>Domestic Shorthair Mix</td>\n",
       "      <td>Torbie</td>\n",
       "    </tr>\n",
       "    <tr>\n",
       "      <th>664219</th>\n",
       "      <td>A664219</td>\n",
       "      <td>NaN</td>\n",
       "      <td>10/01/2013 12:34:00 PM</td>\n",
       "      <td>10/01/2013 12:34:00 PM</td>\n",
       "      <td>08/08/2013</td>\n",
       "      <td>Died</td>\n",
       "      <td>In Kennel</td>\n",
       "      <td>Cat</td>\n",
       "      <td>Intact Male</td>\n",
       "      <td>1 month</td>\n",
       "      <td>Domestic Shorthair Mix</td>\n",
       "      <td>Blue/White</td>\n",
       "    </tr>\n",
       "    <tr>\n",
       "      <th>613553</th>\n",
       "      <td>A613553</td>\n",
       "      <td>Beast</td>\n",
       "      <td>10/01/2013 12:32:00 PM</td>\n",
       "      <td>10/01/2013 12:32:00 PM</td>\n",
       "      <td>05/06/2010</td>\n",
       "      <td>Return to Owner</td>\n",
       "      <td>NaN</td>\n",
       "      <td>Dog</td>\n",
       "      <td>Neutered Male</td>\n",
       "      <td>3 years</td>\n",
       "      <td>Pit Bull Mix</td>\n",
       "      <td>Black/White</td>\n",
       "    </tr>\n",
       "    <tr>\n",
       "      <th>664258</th>\n",
       "      <td>A664258</td>\n",
       "      <td>Sylvio</td>\n",
       "      <td>10/01/2013 12:27:00 PM</td>\n",
       "      <td>10/01/2013 12:27:00 PM</td>\n",
       "      <td>10/01/2006</td>\n",
       "      <td>Return to Owner</td>\n",
       "      <td>NaN</td>\n",
       "      <td>Dog</td>\n",
       "      <td>Neutered Male</td>\n",
       "      <td>7 years</td>\n",
       "      <td>Weimaraner Mix</td>\n",
       "      <td>Silver</td>\n",
       "    </tr>\n",
       "    <tr>\n",
       "      <th>648744</th>\n",
       "      <td>A648744</td>\n",
       "      <td>Claire</td>\n",
       "      <td>10/01/2013 12:27:00 PM</td>\n",
       "      <td>10/01/2013 12:27:00 PM</td>\n",
       "      <td>03/04/2012</td>\n",
       "      <td>Return to Owner</td>\n",
       "      <td>NaN</td>\n",
       "      <td>Dog</td>\n",
       "      <td>Spayed Female</td>\n",
       "      <td>1 year</td>\n",
       "      <td>Anatol Shepherd Mix</td>\n",
       "      <td>White/Tricolor</td>\n",
       "    </tr>\n",
       "    <tr>\n",
       "      <th>663546</th>\n",
       "      <td>A663546</td>\n",
       "      <td>*Gage</td>\n",
       "      <td>10/01/2013 12:24:00 PM</td>\n",
       "      <td>10/01/2013 12:24:00 PM</td>\n",
       "      <td>09/20/2011</td>\n",
       "      <td>Euthanasia</td>\n",
       "      <td>Aggressive</td>\n",
       "      <td>Dog</td>\n",
       "      <td>Neutered Male</td>\n",
       "      <td>2 years</td>\n",
       "      <td>American Bulldog Mix</td>\n",
       "      <td>White/Brown Brindle</td>\n",
       "    </tr>\n",
       "    <tr>\n",
       "      <th>664225</th>\n",
       "      <td>A664225</td>\n",
       "      <td>Lou</td>\n",
       "      <td>10/01/2013 12:13:00 PM</td>\n",
       "      <td>10/01/2013 12:13:00 PM</td>\n",
       "      <td>09/30/2010</td>\n",
       "      <td>Return to Owner</td>\n",
       "      <td>NaN</td>\n",
       "      <td>Dog</td>\n",
       "      <td>Neutered Male</td>\n",
       "      <td>3 years</td>\n",
       "      <td>Shih Tzu Mix</td>\n",
       "      <td>Gray/White</td>\n",
       "    </tr>\n",
       "    <tr>\n",
       "      <th>663342</th>\n",
       "      <td>A663342</td>\n",
       "      <td>Deco</td>\n",
       "      <td>10/01/2013 12:05:00 PM</td>\n",
       "      <td>10/01/2013 12:05:00 PM</td>\n",
       "      <td>09/17/2012</td>\n",
       "      <td>Euthanasia</td>\n",
       "      <td>Behavior</td>\n",
       "      <td>Dog</td>\n",
       "      <td>Neutered Male</td>\n",
       "      <td>1 year</td>\n",
       "      <td>Chesa Bay Retr Mix</td>\n",
       "      <td>Red/White</td>\n",
       "    </tr>\n",
       "    <tr>\n",
       "      <th>656894</th>\n",
       "      <td>A656894</td>\n",
       "      <td>Jake</td>\n",
       "      <td>10/01/2013 11:53:00 AM</td>\n",
       "      <td>10/01/2013 11:53:00 AM</td>\n",
       "      <td>04/22/2013</td>\n",
       "      <td>Adoption</td>\n",
       "      <td>NaN</td>\n",
       "      <td>Cat</td>\n",
       "      <td>Neutered Male</td>\n",
       "      <td>5 months</td>\n",
       "      <td>Domestic Shorthair Mix</td>\n",
       "      <td>Black</td>\n",
       "    </tr>\n",
       "    <tr>\n",
       "      <th>661795</th>\n",
       "      <td>A661795</td>\n",
       "      <td>Blakie</td>\n",
       "      <td>10/01/2013 11:53:00 AM</td>\n",
       "      <td>10/01/2013 11:53:00 AM</td>\n",
       "      <td>03/25/2013</td>\n",
       "      <td>Adoption</td>\n",
       "      <td>NaN</td>\n",
       "      <td>Cat</td>\n",
       "      <td>Spayed Female</td>\n",
       "      <td>6 months</td>\n",
       "      <td>Domestic Shorthair Mix</td>\n",
       "      <td>Tortie</td>\n",
       "    </tr>\n",
       "    <tr>\n",
       "      <th>663833</th>\n",
       "      <td>A663833</td>\n",
       "      <td>Baby Girl</td>\n",
       "      <td>10/01/2013 11:50:00 AM</td>\n",
       "      <td>10/01/2013 11:50:00 AM</td>\n",
       "      <td>09/24/2004</td>\n",
       "      <td>Return to Owner</td>\n",
       "      <td>NaN</td>\n",
       "      <td>Dog</td>\n",
       "      <td>Spayed Female</td>\n",
       "      <td>9 years</td>\n",
       "      <td>Labrador Retriever Mix</td>\n",
       "      <td>Black</td>\n",
       "    </tr>\n",
       "    <tr>\n",
       "      <th>663572</th>\n",
       "      <td>A663572</td>\n",
       "      <td>*Starla</td>\n",
       "      <td>10/01/2013 11:42:00 AM</td>\n",
       "      <td>10/01/2013 11:42:00 AM</td>\n",
       "      <td>09/21/2010</td>\n",
       "      <td>Adoption</td>\n",
       "      <td>NaN</td>\n",
       "      <td>Dog</td>\n",
       "      <td>Spayed Female</td>\n",
       "      <td>3 years</td>\n",
       "      <td>Anatol Shepherd Mix</td>\n",
       "      <td>White/Brown</td>\n",
       "    </tr>\n",
       "    <tr>\n",
       "      <th>663888</th>\n",
       "      <td>A663888</td>\n",
       "      <td>NaN</td>\n",
       "      <td>10/01/2013 11:13:00 AM</td>\n",
       "      <td>10/01/2013 11:13:00 AM</td>\n",
       "      <td>09/25/2011</td>\n",
       "      <td>Transfer</td>\n",
       "      <td>Partner</td>\n",
       "      <td>Dog</td>\n",
       "      <td>Spayed Female</td>\n",
       "      <td>2 years</td>\n",
       "      <td>Boxer Mix</td>\n",
       "      <td>Red/White</td>\n",
       "    </tr>\n",
       "    <tr>\n",
       "      <th>663646</th>\n",
       "      <td>A663646</td>\n",
       "      <td>NaN</td>\n",
       "      <td>10/01/2013 11:12:00 AM</td>\n",
       "      <td>10/01/2013 11:12:00 AM</td>\n",
       "      <td>09/22/2010</td>\n",
       "      <td>Transfer</td>\n",
       "      <td>Partner</td>\n",
       "      <td>Dog</td>\n",
       "      <td>Neutered Male</td>\n",
       "      <td>3 years</td>\n",
       "      <td>Toy Poodle Mix</td>\n",
       "      <td>White</td>\n",
       "    </tr>\n",
       "    <tr>\n",
       "      <th>664223</th>\n",
       "      <td>A664223</td>\n",
       "      <td>Moby</td>\n",
       "      <td>10/01/2013 11:03:00 AM</td>\n",
       "      <td>10/01/2013 11:03:00 AM</td>\n",
       "      <td>09/30/2009</td>\n",
       "      <td>Return to Owner</td>\n",
       "      <td>NaN</td>\n",
       "      <td>Dog</td>\n",
       "      <td>Neutered Male</td>\n",
       "      <td>4 years</td>\n",
       "      <td>Bulldog Mix</td>\n",
       "      <td>White</td>\n",
       "    </tr>\n",
       "    <tr>\n",
       "      <th>664237</th>\n",
       "      <td>A664237</td>\n",
       "      <td>NaN</td>\n",
       "      <td>10/01/2013 10:44:00 AM</td>\n",
       "      <td>10/01/2013 10:44:00 AM</td>\n",
       "      <td>09/24/2013</td>\n",
       "      <td>Transfer</td>\n",
       "      <td>Partner</td>\n",
       "      <td>Cat</td>\n",
       "      <td>Unknown</td>\n",
       "      <td>1 week</td>\n",
       "      <td>Domestic Shorthair Mix</td>\n",
       "      <td>Orange/White</td>\n",
       "    </tr>\n",
       "    <tr>\n",
       "      <th>664236</th>\n",
       "      <td>A664236</td>\n",
       "      <td>NaN</td>\n",
       "      <td>10/01/2013 10:44:00 AM</td>\n",
       "      <td>10/01/2013 10:44:00 AM</td>\n",
       "      <td>09/24/2013</td>\n",
       "      <td>Transfer</td>\n",
       "      <td>Partner</td>\n",
       "      <td>Cat</td>\n",
       "      <td>Unknown</td>\n",
       "      <td>1 week</td>\n",
       "      <td>Domestic Shorthair Mix</td>\n",
       "      <td>Orange/White</td>\n",
       "    </tr>\n",
       "    <tr>\n",
       "      <th>664235</th>\n",
       "      <td>A664235</td>\n",
       "      <td>NaN</td>\n",
       "      <td>10/01/2013 10:39:00 AM</td>\n",
       "      <td>10/01/2013 10:39:00 AM</td>\n",
       "      <td>09/24/2013</td>\n",
       "      <td>Transfer</td>\n",
       "      <td>Partner</td>\n",
       "      <td>Cat</td>\n",
       "      <td>Unknown</td>\n",
       "      <td>1 week</td>\n",
       "      <td>Domestic Shorthair Mix</td>\n",
       "      <td>Orange/White</td>\n",
       "    </tr>\n",
       "    <tr>\n",
       "      <th>659834</th>\n",
       "      <td>A659834</td>\n",
       "      <td>*Dudley</td>\n",
       "      <td>10/01/2013 09:31:00 AM</td>\n",
       "      <td>10/01/2013 09:31:00 AM</td>\n",
       "      <td>07/23/2013</td>\n",
       "      <td>Adoption</td>\n",
       "      <td>Foster</td>\n",
       "      <td>Dog</td>\n",
       "      <td>Neutered Male</td>\n",
       "      <td>2 months</td>\n",
       "      <td>Labrador Retriever Mix</td>\n",
       "      <td>Black</td>\n",
       "    </tr>\n",
       "  </tbody>\n",
       "</table>\n",
       "<p>105760 rows × 12 columns</p>\n",
       "</div>"
      ],
      "text/plain": [
       "          Animal ID       Name                DateTime  \\\n",
       "Animal ID                                                \n",
       "797813      A797813     *Floof  08/13/2019 10:56:00 AM   \n",
       "800016      A800016   *Jackson  08/13/2019 10:56:00 AM   \n",
       "797817      A797817     *Piper  08/13/2019 10:56:00 AM   \n",
       "787607      A787607       Bobo  08/13/2019 10:55:00 AM   \n",
       "801031      A801031    *Margie  08/13/2019 10:55:00 AM   \n",
       "800998      A800998     *Heath  08/13/2019 10:55:00 AM   \n",
       "800496      A800496    *Marius  08/13/2019 10:54:00 AM   \n",
       "796087      A796087      Daisy  08/13/2019 10:54:00 AM   \n",
       "801528      A801528   *Frannie  08/13/2019 10:53:00 AM   \n",
       "798869      A798869    *Willie  08/13/2019 08:58:00 AM   \n",
       "798474      A798474      *Peep  08/13/2019 08:02:00 AM   \n",
       "795994      A795994        NaN  08/13/2019 06:29:00 AM   \n",
       "800922      A800922      Scout  08/12/2019 09:26:00 PM   \n",
       "801728      A801728        NaN  08/12/2019 09:25:00 PM   \n",
       "801494      A801494     Ramona  08/12/2019 06:47:00 PM   \n",
       "801720      A801720        NaN  08/12/2019 06:46:00 PM   \n",
       "801995      A801995        NaN  08/12/2019 06:33:00 PM   \n",
       "501761      A501761      Pinky  08/12/2019 06:31:00 PM   \n",
       "801546      A801546    Lindsay  08/12/2019 06:26:00 PM   \n",
       "800766      A800766    *Duncan  08/12/2019 06:03:00 PM   \n",
       "801500      A801500    *Winnie  08/12/2019 05:58:00 PM   \n",
       "801628      A801628       Hera  08/12/2019 05:48:00 PM   \n",
       "801091      A801091      *Gabi  08/12/2019 05:35:00 PM   \n",
       "801417      A801417        NaN  08/12/2019 05:31:00 PM   \n",
       "795481      A795481     *Bunny  08/12/2019 05:03:00 PM   \n",
       "801222      A801222        NaN  08/12/2019 05:01:00 PM   \n",
       "800437      A800437     Witten  08/12/2019 04:47:00 PM   \n",
       "801363      A801363    Gremlin  08/12/2019 04:46:00 PM   \n",
       "801677      A801677        NaN  08/12/2019 04:41:00 PM   \n",
       "801730      A801730        NaN  08/12/2019 04:35:00 PM   \n",
       "...             ...        ...                     ...   \n",
       "663887      A663887      Hooch  10/01/2013 03:07:00 PM   \n",
       "663935      A663935        NaN  10/01/2013 02:15:00 PM   \n",
       "663201      A663201       Buck  10/01/2013 02:14:00 PM   \n",
       "663955      A663955        NaN  10/01/2013 02:13:00 PM   \n",
       "664171      A664171     Knight  10/01/2013 01:59:00 PM   \n",
       "663938      A663938        NaN  10/01/2013 01:16:00 PM   \n",
       "664261      A664261        NaN  10/01/2013 01:00:00 PM   \n",
       "664260      A664260        NaN  10/01/2013 01:00:00 PM   \n",
       "664262      A664262        NaN  10/01/2013 12:59:00 PM   \n",
       "664263      A664263        NaN  10/01/2013 12:58:00 PM   \n",
       "664271      A664271        NaN  10/01/2013 12:57:00 PM   \n",
       "663495      A663495    Pikachu  10/01/2013 12:45:00 PM   \n",
       "664219      A664219        NaN  10/01/2013 12:34:00 PM   \n",
       "613553      A613553      Beast  10/01/2013 12:32:00 PM   \n",
       "664258      A664258     Sylvio  10/01/2013 12:27:00 PM   \n",
       "648744      A648744     Claire  10/01/2013 12:27:00 PM   \n",
       "663546      A663546      *Gage  10/01/2013 12:24:00 PM   \n",
       "664225      A664225        Lou  10/01/2013 12:13:00 PM   \n",
       "663342      A663342       Deco  10/01/2013 12:05:00 PM   \n",
       "656894      A656894       Jake  10/01/2013 11:53:00 AM   \n",
       "661795      A661795     Blakie  10/01/2013 11:53:00 AM   \n",
       "663833      A663833  Baby Girl  10/01/2013 11:50:00 AM   \n",
       "663572      A663572    *Starla  10/01/2013 11:42:00 AM   \n",
       "663888      A663888        NaN  10/01/2013 11:13:00 AM   \n",
       "663646      A663646        NaN  10/01/2013 11:12:00 AM   \n",
       "664223      A664223       Moby  10/01/2013 11:03:00 AM   \n",
       "664237      A664237        NaN  10/01/2013 10:44:00 AM   \n",
       "664236      A664236        NaN  10/01/2013 10:44:00 AM   \n",
       "664235      A664235        NaN  10/01/2013 10:39:00 AM   \n",
       "659834      A659834    *Dudley  10/01/2013 09:31:00 AM   \n",
       "\n",
       "                        MonthYear Date of Birth     Outcome Type  \\\n",
       "Animal ID                                                          \n",
       "797813     08/13/2019 10:56:00 AM    04/03/2019         Transfer   \n",
       "800016     08/13/2019 10:56:00 AM    06/03/2019         Adoption   \n",
       "797817     08/13/2019 10:56:00 AM    04/03/2019         Transfer   \n",
       "787607     08/13/2019 10:55:00 AM    11/05/2018         Transfer   \n",
       "801031     08/13/2019 10:55:00 AM    01/30/2018         Transfer   \n",
       "800998     08/13/2019 10:55:00 AM    07/29/2017         Transfer   \n",
       "800496     08/13/2019 10:54:00 AM    09/22/2018         Transfer   \n",
       "796087     08/13/2019 10:54:00 AM    02/28/2019         Transfer   \n",
       "801528     08/13/2019 10:53:00 AM    02/05/2019         Transfer   \n",
       "798869     08/13/2019 08:58:00 AM    05/26/2019         Adoption   \n",
       "798474     08/13/2019 08:02:00 AM    05/22/2019         Adoption   \n",
       "795994     08/13/2019 06:29:00 AM    04/27/2019         Adoption   \n",
       "800922     08/12/2019 09:26:00 PM    11/28/2018         Adoption   \n",
       "801728     08/12/2019 09:25:00 PM    08/08/2018         Adoption   \n",
       "801494     08/12/2019 06:47:00 PM    06/05/2019         Adoption   \n",
       "801720     08/12/2019 06:46:00 PM    01/08/2019         Adoption   \n",
       "801995     08/12/2019 06:33:00 PM    08/12/2017         Disposal   \n",
       "501761     08/12/2019 06:31:00 PM    05/05/2007         Adoption   \n",
       "801546     08/12/2019 06:26:00 PM    08/05/2016         Adoption   \n",
       "800766     08/12/2019 06:03:00 PM    09/26/2018         Adoption   \n",
       "801500     08/12/2019 05:58:00 PM    06/05/2019         Adoption   \n",
       "801628     08/12/2019 05:48:00 PM    08/06/2018         Adoption   \n",
       "801091     08/12/2019 05:35:00 PM    03/03/2019         Adoption   \n",
       "801417     08/12/2019 05:31:00 PM    06/07/2019         Adoption   \n",
       "795481     08/12/2019 05:03:00 PM    05/21/2018         Adoption   \n",
       "801222     08/12/2019 05:01:00 PM    08/01/2017         Adoption   \n",
       "800437     08/12/2019 04:47:00 PM    05/31/2019         Adoption   \n",
       "801363     08/12/2019 04:46:00 PM    03/03/2017  Return to Owner   \n",
       "801677     08/12/2019 04:41:00 PM    02/07/2019         Adoption   \n",
       "801730     08/12/2019 04:35:00 PM    05/24/2019         Adoption   \n",
       "...                           ...           ...              ...   \n",
       "663887     10/01/2013 03:07:00 PM    09/25/2010       Euthanasia   \n",
       "663935     10/01/2013 02:15:00 PM    09/26/1999         Transfer   \n",
       "663201     10/01/2013 02:14:00 PM    09/14/2011         Transfer   \n",
       "663955     10/01/2013 02:13:00 PM    09/27/1999         Transfer   \n",
       "664171     10/01/2013 01:59:00 PM    12/30/2012  Return to Owner   \n",
       "663938     10/01/2013 01:16:00 PM    09/27/2003       Euthanasia   \n",
       "664261     10/01/2013 01:00:00 PM    09/10/2013         Transfer   \n",
       "664260     10/01/2013 01:00:00 PM    09/10/2013         Transfer   \n",
       "664262     10/01/2013 12:59:00 PM    09/22/2013         Transfer   \n",
       "664263     10/01/2013 12:58:00 PM    09/22/2013         Transfer   \n",
       "664271     10/01/2013 12:57:00 PM    09/24/2013         Transfer   \n",
       "663495     10/01/2013 12:45:00 PM    05/19/2013  Return to Owner   \n",
       "664219     10/01/2013 12:34:00 PM    08/08/2013             Died   \n",
       "613553     10/01/2013 12:32:00 PM    05/06/2010  Return to Owner   \n",
       "664258     10/01/2013 12:27:00 PM    10/01/2006  Return to Owner   \n",
       "648744     10/01/2013 12:27:00 PM    03/04/2012  Return to Owner   \n",
       "663546     10/01/2013 12:24:00 PM    09/20/2011       Euthanasia   \n",
       "664225     10/01/2013 12:13:00 PM    09/30/2010  Return to Owner   \n",
       "663342     10/01/2013 12:05:00 PM    09/17/2012       Euthanasia   \n",
       "656894     10/01/2013 11:53:00 AM    04/22/2013         Adoption   \n",
       "661795     10/01/2013 11:53:00 AM    03/25/2013         Adoption   \n",
       "663833     10/01/2013 11:50:00 AM    09/24/2004  Return to Owner   \n",
       "663572     10/01/2013 11:42:00 AM    09/21/2010         Adoption   \n",
       "663888     10/01/2013 11:13:00 AM    09/25/2011         Transfer   \n",
       "663646     10/01/2013 11:12:00 AM    09/22/2010         Transfer   \n",
       "664223     10/01/2013 11:03:00 AM    09/30/2009  Return to Owner   \n",
       "664237     10/01/2013 10:44:00 AM    09/24/2013         Transfer   \n",
       "664236     10/01/2013 10:44:00 AM    09/24/2013         Transfer   \n",
       "664235     10/01/2013 10:39:00 AM    09/24/2013         Transfer   \n",
       "659834     10/01/2013 09:31:00 AM    07/23/2013         Adoption   \n",
       "\n",
       "          Outcome Subtype Animal Type Sex upon Outcome Age upon Outcome  \\\n",
       "Animal ID                                                                 \n",
       "797813            Partner         Cat    Neutered Male         4 months   \n",
       "800016             Foster         Dog      Intact Male         2 months   \n",
       "797817            Partner         Cat    Spayed Female         4 months   \n",
       "787607            Partner         Dog    Neutered Male         9 months   \n",
       "801031            Partner         Dog    Spayed Female           1 year   \n",
       "800998            Partner         Dog      Intact Male          2 years   \n",
       "800496            Partner         Dog      Intact Male        10 months   \n",
       "796087            Partner         Dog    Spayed Female         5 months   \n",
       "801528            Partner         Dog    Intact Female         6 months   \n",
       "798869             Foster         Cat    Neutered Male         2 months   \n",
       "798474             Foster         Cat    Spayed Female         2 months   \n",
       "795994             Foster         Dog    Spayed Female         3 months   \n",
       "800922                NaN         Dog    Spayed Female         8 months   \n",
       "801728                NaN         Dog    Neutered Male           1 year   \n",
       "801494                NaN         Dog    Spayed Female         2 months   \n",
       "801720                NaN         Dog    Neutered Male         7 months   \n",
       "801995                NaN       Other          Unknown          2 years   \n",
       "501761             Foster         Dog    Spayed Female         12 years   \n",
       "801546                NaN         Dog    Spayed Female          3 years   \n",
       "800766                NaN         Dog    Neutered Male        10 months   \n",
       "801500                NaN         Dog    Neutered Male         2 months   \n",
       "801628                NaN         Dog    Spayed Female           1 year   \n",
       "801091                NaN         Dog    Spayed Female         5 months   \n",
       "801417                NaN         Cat    Neutered Male         2 months   \n",
       "795481                NaN         Cat    Spayed Female           1 year   \n",
       "801222                NaN         Dog    Neutered Male          2 years   \n",
       "800437                NaN         Cat    Spayed Female         2 months   \n",
       "801363                NaN         Cat    Neutered Male          2 years   \n",
       "801677                NaN         Dog    Neutered Male         6 months   \n",
       "801730                NaN         Cat    Neutered Male         2 months   \n",
       "...                   ...         ...              ...              ...   \n",
       "663887            Medical         Dog    Neutered Male          3 years   \n",
       "663935            Partner         Dog      Intact Male         14 years   \n",
       "663201            Partner         Dog    Neutered Male          2 years   \n",
       "663955            Partner         Dog    Intact Female         14 years   \n",
       "664171                NaN         Dog    Neutered Male         9 months   \n",
       "663938          Suffering         Dog    Neutered Male         10 years   \n",
       "664261            Partner         Cat    Intact Female          3 weeks   \n",
       "664260            Partner         Cat    Intact Female          3 weeks   \n",
       "664262            Partner         Cat      Intact Male          1 weeks   \n",
       "664263            Partner         Cat      Intact Male          1 weeks   \n",
       "664271            Partner         Cat    Intact Female           1 week   \n",
       "663495                NaN         Cat    Spayed Female         4 months   \n",
       "664219          In Kennel         Cat      Intact Male          1 month   \n",
       "613553                NaN         Dog    Neutered Male          3 years   \n",
       "664258                NaN         Dog    Neutered Male          7 years   \n",
       "648744                NaN         Dog    Spayed Female           1 year   \n",
       "663546         Aggressive         Dog    Neutered Male          2 years   \n",
       "664225                NaN         Dog    Neutered Male          3 years   \n",
       "663342           Behavior         Dog    Neutered Male           1 year   \n",
       "656894                NaN         Cat    Neutered Male         5 months   \n",
       "661795                NaN         Cat    Spayed Female         6 months   \n",
       "663833                NaN         Dog    Spayed Female          9 years   \n",
       "663572                NaN         Dog    Spayed Female          3 years   \n",
       "663888            Partner         Dog    Spayed Female          2 years   \n",
       "663646            Partner         Dog    Neutered Male          3 years   \n",
       "664223                NaN         Dog    Neutered Male          4 years   \n",
       "664237            Partner         Cat          Unknown           1 week   \n",
       "664236            Partner         Cat          Unknown           1 week   \n",
       "664235            Partner         Cat          Unknown           1 week   \n",
       "659834             Foster         Dog    Neutered Male         2 months   \n",
       "\n",
       "                                     Breed                Color  \n",
       "Animal ID                                                        \n",
       "797813                Domestic Medium Hair                Black  \n",
       "800016             Chihuahua Shorthair Mix                  Tan  \n",
       "797817                  Domestic Shorthair               Calico  \n",
       "787607           Australian Cattle Dog Mix       Black/Tricolor  \n",
       "801031                     German Shepherd          Black/Brown  \n",
       "800998                   Border Collie Mix          Black/White  \n",
       "800496                       Staffordshire                  Red  \n",
       "796087                              Beagle          White/Brown  \n",
       "801528           Labrador Retriever/Beagle            Red/White  \n",
       "798869                  Domestic Shorthair           Blue/White  \n",
       "798474                   Domestic Longhair          Black/White  \n",
       "795994                 Chihuahua Shorthair            White/Tan  \n",
       "800922     Rat Terrier/Chihuahua Shorthair          Brown/White  \n",
       "801728                 Chihuahua Shorthair          Black/White  \n",
       "801494                           Blue Lacy           Blue/White  \n",
       "801720                 Miniature Schnauzer           Gray/Brown  \n",
       "801995                                 Bat           Black/Gray  \n",
       "501761             Chihuahua Shorthair Mix          Black/White  \n",
       "801546              Labrador Retriever Mix            Tan/White  \n",
       "800766       Labrador Retriever/Great Dane          Black/White  \n",
       "801500                     German Shepherd                  Tan  \n",
       "801628                 Chihuahua Shorthair                  Tan  \n",
       "801091                            Pit Bull           Blue/White  \n",
       "801417                  Domestic Shorthair          Brown Tabby  \n",
       "795481                  Domestic Shorthair               Calico  \n",
       "801222              Smooth Fox Terrier Mix          Black/White  \n",
       "800437                  Domestic Shorthair                Black  \n",
       "801363              Domestic Shorthair Mix                Black  \n",
       "801677              Labrador Retriever Mix          Black/White  \n",
       "801730                  Domestic Shorthair           Blue Tabby  \n",
       "...                                    ...                  ...  \n",
       "663887                        Pit Bull Mix            Red/White  \n",
       "663935             Chihuahua Shorthair Mix                Brown  \n",
       "663201                        Pit Bull Mix          Brown/White  \n",
       "663955             Chihuahua Shorthair Mix            Black/Tan  \n",
       "664171                    Basset Hound Mix                Black  \n",
       "663938       Rottweiler/Labrador Retriever            Black/Tan  \n",
       "664261              Domestic Shorthair Mix               Tortie  \n",
       "664260              Domestic Shorthair Mix          Black/White  \n",
       "664262              Domestic Shorthair Mix         Orange Tabby  \n",
       "664263              Domestic Shorthair Mix         Orange Tabby  \n",
       "664271              Domestic Shorthair Mix         Orange Tabby  \n",
       "663495              Domestic Shorthair Mix               Torbie  \n",
       "664219              Domestic Shorthair Mix           Blue/White  \n",
       "613553                        Pit Bull Mix          Black/White  \n",
       "664258                      Weimaraner Mix               Silver  \n",
       "648744                 Anatol Shepherd Mix       White/Tricolor  \n",
       "663546                American Bulldog Mix  White/Brown Brindle  \n",
       "664225                        Shih Tzu Mix           Gray/White  \n",
       "663342                  Chesa Bay Retr Mix            Red/White  \n",
       "656894              Domestic Shorthair Mix                Black  \n",
       "661795              Domestic Shorthair Mix               Tortie  \n",
       "663833              Labrador Retriever Mix                Black  \n",
       "663572                 Anatol Shepherd Mix          White/Brown  \n",
       "663888                           Boxer Mix            Red/White  \n",
       "663646                      Toy Poodle Mix                White  \n",
       "664223                         Bulldog Mix                White  \n",
       "664237              Domestic Shorthair Mix         Orange/White  \n",
       "664236              Domestic Shorthair Mix         Orange/White  \n",
       "664235              Domestic Shorthair Mix         Orange/White  \n",
       "659834              Labrador Retriever Mix                Black  \n",
       "\n",
       "[105760 rows x 12 columns]"
      ]
     },
     "execution_count": 55,
     "metadata": {},
     "output_type": "execute_result"
    }
   ],
   "source": [
    "shelter_data.index = animal_id_index_int\n",
    "shelter_data"
   ]
  },
  {
   "cell_type": "code",
   "execution_count": 61,
   "metadata": {},
   "outputs": [],
   "source": [
    "shelter_event = pd.to_datetime(shelter_data['DateTime'])"
   ]
  },
  {
   "cell_type": "code",
   "execution_count": 59,
   "metadata": {},
   "outputs": [],
   "source": [
    "date_of_birth = pd.to_datetime(shelter_data['Date of Birth'])"
   ]
  },
  {
   "cell_type": "code",
   "execution_count": 62,
   "metadata": {},
   "outputs": [],
   "source": [
    "age_on_exit = shelter_event - date_of_birth"
   ]
  },
  {
   "cell_type": "code",
   "execution_count": 64,
   "metadata": {},
   "outputs": [
    {
     "data": {
      "text/html": [
       "<div>\n",
       "<style scoped>\n",
       "    .dataframe tbody tr th:only-of-type {\n",
       "        vertical-align: middle;\n",
       "    }\n",
       "\n",
       "    .dataframe tbody tr th {\n",
       "        vertical-align: top;\n",
       "    }\n",
       "\n",
       "    .dataframe thead th {\n",
       "        text-align: right;\n",
       "    }\n",
       "</style>\n",
       "<table border=\"1\" class=\"dataframe\">\n",
       "  <thead>\n",
       "    <tr style=\"text-align: right;\">\n",
       "      <th></th>\n",
       "      <th>Animal ID</th>\n",
       "      <th>Name</th>\n",
       "      <th>DateTime</th>\n",
       "      <th>MonthYear</th>\n",
       "      <th>Date of Birth</th>\n",
       "      <th>Outcome Type</th>\n",
       "      <th>Outcome Subtype</th>\n",
       "      <th>Animal Type</th>\n",
       "      <th>Sex upon Outcome</th>\n",
       "      <th>Age upon Outcome</th>\n",
       "      <th>Breed</th>\n",
       "      <th>Color</th>\n",
       "      <th>Age upon Event</th>\n",
       "    </tr>\n",
       "    <tr>\n",
       "      <th>Animal ID</th>\n",
       "      <th></th>\n",
       "      <th></th>\n",
       "      <th></th>\n",
       "      <th></th>\n",
       "      <th></th>\n",
       "      <th></th>\n",
       "      <th></th>\n",
       "      <th></th>\n",
       "      <th></th>\n",
       "      <th></th>\n",
       "      <th></th>\n",
       "      <th></th>\n",
       "      <th></th>\n",
       "    </tr>\n",
       "  </thead>\n",
       "  <tbody>\n",
       "    <tr>\n",
       "      <th>797813</th>\n",
       "      <td>A797813</td>\n",
       "      <td>*Floof</td>\n",
       "      <td>08/13/2019 10:56:00 AM</td>\n",
       "      <td>08/13/2019 10:56:00 AM</td>\n",
       "      <td>04/03/2019</td>\n",
       "      <td>Transfer</td>\n",
       "      <td>Partner</td>\n",
       "      <td>Cat</td>\n",
       "      <td>Neutered Male</td>\n",
       "      <td>4 months</td>\n",
       "      <td>Domestic Medium Hair</td>\n",
       "      <td>Black</td>\n",
       "      <td>132 days 10:56:00</td>\n",
       "    </tr>\n",
       "    <tr>\n",
       "      <th>800016</th>\n",
       "      <td>A800016</td>\n",
       "      <td>*Jackson</td>\n",
       "      <td>08/13/2019 10:56:00 AM</td>\n",
       "      <td>08/13/2019 10:56:00 AM</td>\n",
       "      <td>06/03/2019</td>\n",
       "      <td>Adoption</td>\n",
       "      <td>Foster</td>\n",
       "      <td>Dog</td>\n",
       "      <td>Intact Male</td>\n",
       "      <td>2 months</td>\n",
       "      <td>Chihuahua Shorthair Mix</td>\n",
       "      <td>Tan</td>\n",
       "      <td>71 days 10:56:00</td>\n",
       "    </tr>\n",
       "    <tr>\n",
       "      <th>797817</th>\n",
       "      <td>A797817</td>\n",
       "      <td>*Piper</td>\n",
       "      <td>08/13/2019 10:56:00 AM</td>\n",
       "      <td>08/13/2019 10:56:00 AM</td>\n",
       "      <td>04/03/2019</td>\n",
       "      <td>Transfer</td>\n",
       "      <td>Partner</td>\n",
       "      <td>Cat</td>\n",
       "      <td>Spayed Female</td>\n",
       "      <td>4 months</td>\n",
       "      <td>Domestic Shorthair</td>\n",
       "      <td>Calico</td>\n",
       "      <td>132 days 10:56:00</td>\n",
       "    </tr>\n",
       "    <tr>\n",
       "      <th>787607</th>\n",
       "      <td>A787607</td>\n",
       "      <td>Bobo</td>\n",
       "      <td>08/13/2019 10:55:00 AM</td>\n",
       "      <td>08/13/2019 10:55:00 AM</td>\n",
       "      <td>11/05/2018</td>\n",
       "      <td>Transfer</td>\n",
       "      <td>Partner</td>\n",
       "      <td>Dog</td>\n",
       "      <td>Neutered Male</td>\n",
       "      <td>9 months</td>\n",
       "      <td>Australian Cattle Dog Mix</td>\n",
       "      <td>Black/Tricolor</td>\n",
       "      <td>281 days 10:55:00</td>\n",
       "    </tr>\n",
       "    <tr>\n",
       "      <th>801031</th>\n",
       "      <td>A801031</td>\n",
       "      <td>*Margie</td>\n",
       "      <td>08/13/2019 10:55:00 AM</td>\n",
       "      <td>08/13/2019 10:55:00 AM</td>\n",
       "      <td>01/30/2018</td>\n",
       "      <td>Transfer</td>\n",
       "      <td>Partner</td>\n",
       "      <td>Dog</td>\n",
       "      <td>Spayed Female</td>\n",
       "      <td>1 year</td>\n",
       "      <td>German Shepherd</td>\n",
       "      <td>Black/Brown</td>\n",
       "      <td>560 days 10:55:00</td>\n",
       "    </tr>\n",
       "  </tbody>\n",
       "</table>\n",
       "</div>"
      ],
      "text/plain": [
       "          Animal ID      Name                DateTime               MonthYear  \\\n",
       "Animal ID                                                                       \n",
       "797813      A797813    *Floof  08/13/2019 10:56:00 AM  08/13/2019 10:56:00 AM   \n",
       "800016      A800016  *Jackson  08/13/2019 10:56:00 AM  08/13/2019 10:56:00 AM   \n",
       "797817      A797817    *Piper  08/13/2019 10:56:00 AM  08/13/2019 10:56:00 AM   \n",
       "787607      A787607      Bobo  08/13/2019 10:55:00 AM  08/13/2019 10:55:00 AM   \n",
       "801031      A801031   *Margie  08/13/2019 10:55:00 AM  08/13/2019 10:55:00 AM   \n",
       "\n",
       "          Date of Birth Outcome Type Outcome Subtype Animal Type  \\\n",
       "Animal ID                                                          \n",
       "797813       04/03/2019     Transfer         Partner         Cat   \n",
       "800016       06/03/2019     Adoption          Foster         Dog   \n",
       "797817       04/03/2019     Transfer         Partner         Cat   \n",
       "787607       11/05/2018     Transfer         Partner         Dog   \n",
       "801031       01/30/2018     Transfer         Partner         Dog   \n",
       "\n",
       "          Sex upon Outcome Age upon Outcome                      Breed  \\\n",
       "Animal ID                                                                \n",
       "797813       Neutered Male         4 months       Domestic Medium Hair   \n",
       "800016         Intact Male         2 months    Chihuahua Shorthair Mix   \n",
       "797817       Spayed Female         4 months         Domestic Shorthair   \n",
       "787607       Neutered Male         9 months  Australian Cattle Dog Mix   \n",
       "801031       Spayed Female           1 year            German Shepherd   \n",
       "\n",
       "                    Color    Age upon Event  \n",
       "Animal ID                                    \n",
       "797813              Black 132 days 10:56:00  \n",
       "800016                Tan  71 days 10:56:00  \n",
       "797817             Calico 132 days 10:56:00  \n",
       "787607     Black/Tricolor 281 days 10:55:00  \n",
       "801031        Black/Brown 560 days 10:55:00  "
      ]
     },
     "execution_count": 64,
     "metadata": {},
     "output_type": "execute_result"
    }
   ],
   "source": [
    "shelter_data['Age upon Event'] = age_on_exit\n",
    "shelter_data.head()"
   ]
  },
  {
   "cell_type": "code",
   "execution_count": null,
   "metadata": {},
   "outputs": [],
   "source": [
    "shelter_data.shape"
   ]
  },
  {
   "cell_type": "code",
   "execution_count": null,
   "metadata": {},
   "outputs": [],
   "source": [
    "shelter_data[0:501].shape"
   ]
  },
  {
   "cell_type": "code",
   "execution_count": null,
   "metadata": {},
   "outputs": [],
   "source": [
    "shelter_data[0:0]"
   ]
  },
  {
   "cell_type": "code",
   "execution_count": null,
   "metadata": {},
   "outputs": [],
   "source": [
    "shelter_data.columns"
   ]
  },
  {
   "cell_type": "markdown",
   "metadata": {},
   "source": [
    "Now that we can read in data, let's get more comfortable with our Pandas data structures."
   ]
  },
  {
   "cell_type": "code",
   "execution_count": null,
   "metadata": {},
   "outputs": [],
   "source": [
    "type(shelter_data)"
   ]
  },
  {
   "cell_type": "code",
   "execution_count": null,
   "metadata": {},
   "outputs": [],
   "source": [
    "ID_series=shelter_data['Animal ID'] #you can specify particular columns in a data frame in this way.\n",
    "\n",
    "type(ID_series)"
   ]
  },
  {
   "cell_type": "code",
   "execution_count": null,
   "metadata": {},
   "outputs": [],
   "source": [
    "shelter_data.info()"
   ]
  },
  {
   "cell_type": "markdown",
   "metadata": {},
   "source": [
    "### 4. Utilizing and identifying Pandas objects\n",
    "\n",
    "- What is a DataFrame object and what is a Series object? \n",
    "- How are they different from Python lists and dictionary objects?\n",
    "\n",
    "These are questions we will cover in this section. To start, let's start with this list of fruits."
   ]
  },
  {
   "cell_type": "code",
   "execution_count": null,
   "metadata": {},
   "outputs": [],
   "source": [
    "#define your list here!\n",
    "\n",
    "fruits = ['Apple','Orange','Watermelon','Lemon','Mango']\n",
    "\n",
    "print(fruits)"
   ]
  },
  {
   "cell_type": "markdown",
   "metadata": {},
   "source": [
    "Using our list of fruits, we can create a pandas object called a 'series' which is much like an array or a vector."
   ]
  },
  {
   "cell_type": "markdown",
   "metadata": {},
   "source": [
    "Circle back on the 'object' label in `dtype`:\n",
    "\n",
    "## `dtype: object` is a `pandas` specific `dtype` for strings.\n",
    "\n",
    "Sources:\n",
    "\n",
    "* https://stackoverflow.com/a/21020411\n",
    "* https://pbpython.com/pandas_dtypes.html"
   ]
  },
  {
   "cell_type": "code",
   "execution_count": null,
   "metadata": {},
   "outputs": [],
   "source": [
    "fruits_series = pd.Series(fruits)\n",
    "\n",
    "print(fruits_series)"
   ]
  },
  {
   "cell_type": "markdown",
   "metadata": {},
   "source": [
    "Note that `fruit_series` is a string despite the `dtype: object` label."
   ]
  },
  {
   "cell_type": "code",
   "execution_count": null,
   "metadata": {},
   "outputs": [],
   "source": [
    "fruits_series + \"...are totally awesome\""
   ]
  },
  {
   "cell_type": "markdown",
   "metadata": {},
   "source": [
    "One difference between python **list objects** and pandas **series objects** is the fact that you can define the index _manually._"
   ]
  },
  {
   "cell_type": "code",
   "execution_count": null,
   "metadata": {},
   "outputs": [],
   "source": [
    "ind = ['a','b','c','d','e']\n",
    "\n",
    "fruits_series = pd.Series(fruits, index=ind)\n",
    "\n",
    "print(fruits_series)"
   ]
  },
  {
   "cell_type": "markdown",
   "metadata": {},
   "source": [
    "With a partner, create your own custom series from a list of lists."
   ]
  },
  {
   "cell_type": "code",
   "execution_count": null,
   "metadata": {},
   "outputs": [],
   "source": [
    "list_of_lists=[['cat'],['dog'],['horse'],['cow'],['macaw']]\n",
    "\n",
    "#create custom indices for your series\n",
    "\n",
    "\n",
    "#create the series using your list objects\n",
    "#HINT: use a for loop\n",
    "\n",
    "\n",
    "#print your series\n"
   ]
  },
  {
   "cell_type": "markdown",
   "metadata": {},
   "source": [
    "We can do a simliar thing with Python dictionaries. This time, however, we will create a DataFrame object from a python dictionary."
   ]
  },
  {
   "cell_type": "code",
   "execution_count": null,
   "metadata": {},
   "outputs": [],
   "source": [
    "# Dictionary with list object in values\n",
    "student_dict = {\n",
    "    'name' : ['Samantha', 'Alex', 'Dante'],\n",
    "    'age' : ['35','17','26'],\n",
    "    'city' : ['Houston', 'Seattle', 'New york']\n",
    "}\n",
    "\n",
    "students_df = pd.DataFrame(student_dict)\n",
    "\n",
    "students_df.head()"
   ]
  },
  {
   "cell_type": "markdown",
   "metadata": {},
   "source": [
    "Circle back: how does Pandas assign dtypes to columns?"
   ]
  },
  {
   "cell_type": "code",
   "execution_count": null,
   "metadata": {},
   "outputs": [],
   "source": [
    "#to find data types of columns\n",
    "students_df.dtypes"
   ]
  },
  {
   "cell_type": "markdown",
   "metadata": {},
   "source": [
    "Let's change the data type of ages to int."
   ]
  },
  {
   "cell_type": "code",
   "execution_count": null,
   "metadata": {},
   "outputs": [],
   "source": [
    "students_df[\"age\"] = students_df[\"age\"].astype(int)\n",
    "\n",
    "students_df.dtypes"
   ]
  },
  {
   "cell_type": "markdown",
   "metadata": {},
   "source": [
    "We can also use a custom index for these items. For example, we might want them to be the individual student ID numbers."
   ]
  },
  {
   "cell_type": "code",
   "execution_count": null,
   "metadata": {},
   "outputs": [],
   "source": [
    "school_ids = ['1111','1145','0096']\n",
    "\n",
    "students_df = pd.DataFrame(student_dict,index=school_ids)\n",
    "\n",
    "students_df.head()"
   ]
  },
  {
   "cell_type": "markdown",
   "metadata": {},
   "source": [
    "Using Pandas, we can also rename column names."
   ]
  },
  {
   "cell_type": "code",
   "execution_count": null,
   "metadata": {},
   "outputs": [],
   "source": [
    "students_df.index"
   ]
  },
  {
   "cell_type": "code",
   "execution_count": null,
   "metadata": {},
   "outputs": [],
   "source": [
    "students_df.columns"
   ]
  },
  {
   "cell_type": "code",
   "execution_count": null,
   "metadata": {},
   "outputs": [],
   "source": [
    "students_df[\"name\"]"
   ]
  },
  {
   "cell_type": "code",
   "execution_count": null,
   "metadata": {},
   "outputs": [],
   "source": [
    "students_df.columns = ['NAME', 'AGE','HOME']\n",
    "students_df.head()"
   ]
  },
  {
   "cell_type": "markdown",
   "metadata": {},
   "source": [
    "Or, we can also change the column names using the rename function."
   ]
  },
  {
   "cell_type": "code",
   "execution_count": null,
   "metadata": {},
   "outputs": [],
   "source": [
    "students_df.rename(columns={'AGE': 'YEARS'}, inplace=True)\n",
    "students_df.head()"
   ]
  },
  {
   "cell_type": "markdown",
   "metadata": {},
   "source": [
    "Similarly, there is a tool to remove rows and columns from your DataFrame"
   ]
  },
  {
   "cell_type": "code",
   "execution_count": null,
   "metadata": {},
   "outputs": [],
   "source": [
    "students_df.drop(columns=['YEARS', 'HOME'])"
   ]
  },
  {
   "cell_type": "code",
   "execution_count": null,
   "metadata": {},
   "outputs": [],
   "source": [
    "students_df"
   ]
  },
  {
   "cell_type": "markdown",
   "metadata": {},
   "source": [
    "If you want the file to save over itself, use the option `inplace = True`.\n",
    "\n",
    "Every function has options. Let's read more about `drop` [here](https://pandas.pydata.org/pandas-docs/stable/reference/api/pandas.DataFrame.drop.html)"
   ]
  },
  {
   "cell_type": "code",
   "execution_count": null,
   "metadata": {},
   "outputs": [],
   "source": [
    "students_df.drop(index=['1111']) #unintuitively, this is a string!"
   ]
  },
  {
   "cell_type": "markdown",
   "metadata": {},
   "source": [
    "Adding columns can be a bit trickier, however."
   ]
  },
  {
   "cell_type": "markdown",
   "metadata": {},
   "source": [
    "#### Getting Started\n",
    "\n",
    "Let's define a function that returns a dataframe for us to work with. Note that this dataframe is created from a `list` of dictionaries, and each `dict` has identical _keys_ representing field names. The _values_ are the data to be stored in each field.\n",
    "\n",
    "This list-of-dictionaries format is a common way to represent _rows of data_ in Python.\n",
    "\n",
    "Pandas is not the only tool that supports it natively: **MongoDB** also represents each row of a dataset as a dictionary. This format is also useful when working with big data in Spark."
   ]
  },
  {
   "cell_type": "code",
   "execution_count": null,
   "metadata": {},
   "outputs": [],
   "source": [
    "def get_customer_data():\n",
    "    \"\"\"Return a Pandas DataFrame containing imaginary customer data.\"\"\"\n",
    "    customers = [\n",
    "        {'name': 'Harmony', 'state': 'OR'},\n",
    "        {'name': 'Sarah', 'state': 'CA'},\n",
    "        {'name': 'Sharad', 'state': 'WA'},\n",
    "        {'name': 'CJ', 'state': 'NY'},\n",
    "        {'name': 'Jerry', 'state': 'OR'},\n",
    "    ]\n",
    "    return pd.DataFrame(customers)"
   ]
  },
  {
   "cell_type": "code",
   "execution_count": null,
   "metadata": {},
   "outputs": [],
   "source": [
    "get_customer_data()"
   ]
  },
  {
   "cell_type": "markdown",
   "metadata": {},
   "source": [
    "#### Get the customer data"
   ]
  },
  {
   "cell_type": "code",
   "execution_count": null,
   "metadata": {},
   "outputs": [],
   "source": [
    "customer_df = get_customer_data()"
   ]
  },
  {
   "cell_type": "markdown",
   "metadata": {},
   "source": [
    "#### Try to identify all Oregonian customers as hippies:\n"
   ]
  },
  {
   "cell_type": "code",
   "execution_count": null,
   "metadata": {},
   "outputs": [],
   "source": [
    "oregon_customer_df = customer_df[customer_df['state'] == 'OR']\n",
    "oregon_customer_df['is_hippy'] = 1"
   ]
  },
  {
   "cell_type": "markdown",
   "metadata": {},
   "source": [
    "#### Try to identify all non-Oregonian customers as non-hippies:\n"
   ]
  },
  {
   "cell_type": "code",
   "execution_count": null,
   "metadata": {},
   "outputs": [],
   "source": [
    "non_oregon_customer_df = customer_df[customer_df['state'] != 'OR']\n",
    "non_oregon_customer_df['is_hippy'] = 0"
   ]
  },
  {
   "cell_type": "markdown",
   "metadata": {},
   "source": [
    "#### We can do the same thing on a single line (and get the same warning):"
   ]
  },
  {
   "cell_type": "code",
   "execution_count": null,
   "metadata": {},
   "outputs": [],
   "source": [
    "customer_df[customer_df['state'] == 'OR']['is_hippy'] = 1"
   ]
  },
  {
   "cell_type": "markdown",
   "metadata": {},
   "source": [
    "#### See the results! (What's wrong?)"
   ]
  },
  {
   "cell_type": "code",
   "execution_count": null,
   "metadata": {},
   "outputs": [],
   "source": [
    "customer_df"
   ]
  },
  {
   "cell_type": "markdown",
   "metadata": {},
   "source": [
    "#### What went wrong?\n",
    "\n",
    "1. First, we _sliced_ the original dataframe to include just Oregon customers.\n",
    "2. The _slice_ `oregon_customer_df` could be interpreted as a _new dataframe_ containing the selected rows in the original `customer_df`, or as a _pointer to_ the rows in the original dataframe. Pandas doesn't know which one we want.\n",
    "3. When we try to _modify_ or _set_ values in the slice, Pandas doesn't know what to do.\n",
    "\n",
    "#### One way to avoid the error is to explicitly make a copy of the slice with `df.copy()`:"
   ]
  },
  {
   "cell_type": "code",
   "execution_count": null,
   "metadata": {},
   "outputs": [],
   "source": [
    "oregon_customer_df = customer_df[customer_df['state'] == 'OR'].copy()\n",
    "oregon_customer_df['is_hippy'] = 1\n",
    "oregon_customer_df"
   ]
  },
  {
   "cell_type": "markdown",
   "metadata": {},
   "source": [
    "#### What if we really want to modify the original dataframe?\n",
    "#### We can use `df.loc[columns, rows]` to explicity modify the original dataframe."
   ]
  },
  {
   "cell_type": "code",
   "execution_count": null,
   "metadata": {},
   "outputs": [],
   "source": [
    "customer_df.loc[customer_df['state'] == 'OR', 'is_hippy'] = 1\n",
    "customer_df.loc[customer_df['state'] != 'OR', 'is_hippy'] = 0"
   ]
  },
  {
   "cell_type": "markdown",
   "metadata": {},
   "source": [
    "#### See the awesome results!\n"
   ]
  },
  {
   "cell_type": "code",
   "execution_count": null,
   "metadata": {},
   "outputs": [],
   "source": [
    "customer_df"
   ]
  },
  {
   "cell_type": "markdown",
   "metadata": {},
   "source": [
    "### 5. Filtering data using Pandas\n",
    "\n",
    "There are several ways to grab particular data from a DataFrame.\n",
    "\n",
    "We saw the use of loc in the previous example. iloc and loc can be used in a few different ways to access data from a DataFrame. "
   ]
  },
  {
   "cell_type": "code",
   "execution_count": null,
   "metadata": {},
   "outputs": [],
   "source": [
    "customer_df.iloc[0] #returns the first row"
   ]
  },
  {
   "cell_type": "code",
   "execution_count": null,
   "metadata": {},
   "outputs": [],
   "source": [
    "customer_df.iloc[:,0] #returns the first column"
   ]
  },
  {
   "cell_type": "code",
   "execution_count": null,
   "metadata": {},
   "outputs": [],
   "source": [
    "customer_df.iloc[0:2] #returns first two rows"
   ]
  },
  {
   "cell_type": "code",
   "execution_count": null,
   "metadata": {},
   "outputs": [],
   "source": [
    "customer_df.iloc[:,0:2] #returns the first two columns"
   ]
  },
  {
   "cell_type": "markdown",
   "metadata": {},
   "source": [
    "How would we use indexing to return the last item in the last row?"
   ]
  },
  {
   "cell_type": "code",
   "execution_count": null,
   "metadata": {},
   "outputs": [],
   "source": [
    "#return the last item in the last row using indexing\n",
    "\n"
   ]
  },
  {
   "cell_type": "markdown",
   "metadata": {},
   "source": [
    "Use loc to return rows and columns based on labels. Let's look at the students_df DataFrame again."
   ]
  },
  {
   "cell_type": "code",
   "execution_count": null,
   "metadata": {},
   "outputs": [],
   "source": [
    "students_df.head()"
   ]
  },
  {
   "cell_type": "code",
   "execution_count": null,
   "metadata": {},
   "outputs": [],
   "source": [
    "students_df.loc['1111'] #returns the student information associated with the ID number 1111, which is the index"
   ]
  },
  {
   "cell_type": "code",
   "execution_count": null,
   "metadata": {},
   "outputs": [],
   "source": [
    "students_df.loc[:,'YEARS'] #returns the column labeled 'YEARS'"
   ]
  },
  {
   "cell_type": "code",
   "execution_count": null,
   "metadata": {},
   "outputs": [],
   "source": [
    "students_df.loc['1111','NAME':'HOME'] #returns information for the row labeled '1111' for columns from 'NAME' to 'HOME'"
   ]
  },
  {
   "cell_type": "markdown",
   "metadata": {},
   "source": [
    "How could we return the first and last rows if loc accepts a list of labels?"
   ]
  },
  {
   "cell_type": "code",
   "execution_count": null,
   "metadata": {},
   "outputs": [],
   "source": [
    "#return the first and last rows using one loc command\n",
    "\n"
   ]
  },
  {
   "cell_type": "markdown",
   "metadata": {},
   "source": [
    "We can use loc to complete more complicated filtering of our data using boolean indexing."
   ]
  },
  {
   "cell_type": "code",
   "execution_count": null,
   "metadata": {},
   "outputs": [],
   "source": [
    "students_df.loc[students_df['NAME']=='Samantha'] #returns only rows where the name of the student is Samantha"
   ]
  },
  {
   "cell_type": "markdown",
   "metadata": {},
   "source": [
    "We can also find out which customers in the customer_df DataFrame are not from Oregon. However, I only want to know their names. How would I return this?"
   ]
  },
  {
   "cell_type": "code",
   "execution_count": null,
   "metadata": {},
   "outputs": [],
   "source": [
    "customer_df.head()"
   ]
  },
  {
   "cell_type": "code",
   "execution_count": null,
   "metadata": {},
   "outputs": [],
   "source": [
    "#return the names of customers who are not from Oregon\n",
    "\n"
   ]
  },
  {
   "cell_type": "markdown",
   "metadata": {},
   "source": [
    "Let's select only a single column from a DataFrame. This will create a series, which allows for straightforwards, simple selection of the data it holds. "
   ]
  },
  {
   "cell_type": "code",
   "execution_count": null,
   "metadata": {},
   "outputs": [],
   "source": [
    "states=customer_df.loc[:,'state'] #returns a series!!\n",
    "type(states)"
   ]
  },
  {
   "cell_type": "code",
   "execution_count": null,
   "metadata": {},
   "outputs": [],
   "source": [
    "states[0:3] #returns the first 3 items"
   ]
  },
  {
   "cell_type": "code",
   "execution_count": null,
   "metadata": {},
   "outputs": [],
   "source": [
    "states[states=='OR'] #returns 'OR' data and index"
   ]
  },
  {
   "cell_type": "markdown",
   "metadata": {},
   "source": [
    "Now that we know how to select specific data, we can manipulate those cells. For example, we need to update our customer data because all of our customers in Oregon have moved to New Jersey."
   ]
  },
  {
   "cell_type": "code",
   "execution_count": null,
   "metadata": {},
   "outputs": [],
   "source": [
    "customer_df.loc[customer_df[\"state\"]=='OR', \"state\"] = 'NJ'\n",
    "\n",
    "customer_df"
   ]
  },
  {
   "cell_type": "markdown",
   "metadata": {},
   "source": [
    "Or maybe we got a customer's name wrong and need to change that. Perhaps CJ is actually named TJ. How would we do that?"
   ]
  },
  {
   "cell_type": "code",
   "execution_count": null,
   "metadata": {},
   "outputs": [],
   "source": [
    "#return a the customer_df with the fixed name\n",
    "\n"
   ]
  },
  {
   "cell_type": "markdown",
   "metadata": {},
   "source": [
    "### Lesson Recap\n",
    "\n",
    "Now that we have all of these new tools in our tool belt, let's take another look at our animal shelter data! \n",
    "\n",
    "- Use `shelter_data.columns` to get the list of column names\n",
    "- Drop columns from the animal shelter data until you have only 5 columns remaining\n",
    "- Rename those columns\n",
    "- Get the `unique()` values in outcomes \n",
    "- select rows of animals based on an application of boolean indexing\n",
    "\n",
    "For extra credit: add in your own new column on information to this DataFrame."
   ]
  },
  {
   "cell_type": "code",
   "execution_count": null,
   "metadata": {},
   "outputs": [],
   "source": [
    "#code here"
   ]
  },
  {
   "cell_type": "markdown",
   "metadata": {},
   "source": [
    "## Assessment & Reflection"
   ]
  }
 ],
 "metadata": {
  "kernelspec": {
   "display_name": "Python [conda env:learn-env] *",
   "language": "python",
   "name": "conda-env-learn-env-py"
  },
  "language_info": {
   "codemirror_mode": {
    "name": "ipython",
    "version": 3
   },
   "file_extension": ".py",
   "mimetype": "text/x-python",
   "name": "python",
   "nbconvert_exporter": "python",
   "pygments_lexer": "ipython3",
   "version": "3.6.6"
  }
 },
 "nbformat": 4,
 "nbformat_minor": 2
}
